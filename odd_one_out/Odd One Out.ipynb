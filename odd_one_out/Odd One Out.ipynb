{
 "cells": [
  {
   "cell_type": "code",
   "execution_count": 111,
   "id": "proper-breath",
   "metadata": {},
   "outputs": [],
   "source": [
    "import numpy as np\n",
    "import pandas as pd\n",
    "from scipy import spatial\n",
    "from sklearn.metrics.pairwise import cosine_similarity\n",
    "import gensim\n",
    "from gensim.models import word2vec\n",
    "from gensim.models import KeyedVectors"
   ]
  },
  {
   "cell_type": "code",
   "execution_count": 3,
   "id": "secret-render",
   "metadata": {},
   "outputs": [],
   "source": [
    "df = pd.read_csv('c:/Users/nishant/odd_one_out/Test/Test.csv')"
   ]
  },
  {
   "cell_type": "code",
   "execution_count": 7,
   "id": "announced-newspaper",
   "metadata": {},
   "outputs": [
    {
     "data": {
      "text/html": [
       "<div>\n",
       "<style scoped>\n",
       "    .dataframe tbody tr th:only-of-type {\n",
       "        vertical-align: middle;\n",
       "    }\n",
       "\n",
       "    .dataframe tbody tr th {\n",
       "        vertical-align: top;\n",
       "    }\n",
       "\n",
       "    .dataframe thead th {\n",
       "        text-align: right;\n",
       "    }\n",
       "</style>\n",
       "<table border=\"1\" class=\"dataframe\">\n",
       "  <thead>\n",
       "    <tr style=\"text-align: right;\">\n",
       "      <th></th>\n",
       "      <th>Word1</th>\n",
       "      <th>Word2</th>\n",
       "      <th>Word3</th>\n",
       "      <th>Word4</th>\n",
       "      <th>Word5</th>\n",
       "    </tr>\n",
       "  </thead>\n",
       "  <tbody>\n",
       "    <tr>\n",
       "      <th>0</th>\n",
       "      <td>elephant</td>\n",
       "      <td>lion</td>\n",
       "      <td>tiger</td>\n",
       "      <td>goat</td>\n",
       "      <td>snake</td>\n",
       "    </tr>\n",
       "    <tr>\n",
       "      <th>1</th>\n",
       "      <td>man</td>\n",
       "      <td>policeman</td>\n",
       "      <td>fireman</td>\n",
       "      <td>teacher</td>\n",
       "      <td>postman</td>\n",
       "    </tr>\n",
       "    <tr>\n",
       "      <th>2</th>\n",
       "      <td>plane</td>\n",
       "      <td>bird</td>\n",
       "      <td>rocket</td>\n",
       "      <td>balloon</td>\n",
       "      <td>cat</td>\n",
       "    </tr>\n",
       "    <tr>\n",
       "      <th>3</th>\n",
       "      <td>onion</td>\n",
       "      <td>celery</td>\n",
       "      <td>lettuce</td>\n",
       "      <td>pineapple</td>\n",
       "      <td>potato</td>\n",
       "    </tr>\n",
       "    <tr>\n",
       "      <th>4</th>\n",
       "      <td>India</td>\n",
       "      <td>football</td>\n",
       "      <td>hockey</td>\n",
       "      <td>cricket</td>\n",
       "      <td>swimming</td>\n",
       "    </tr>\n",
       "    <tr>\n",
       "      <th>5</th>\n",
       "      <td>who</td>\n",
       "      <td>why</td>\n",
       "      <td>what</td>\n",
       "      <td>where</td>\n",
       "      <td>is</td>\n",
       "    </tr>\n",
       "    <tr>\n",
       "      <th>6</th>\n",
       "      <td>on</td>\n",
       "      <td>in</td>\n",
       "      <td>over</td>\n",
       "      <td>their</td>\n",
       "      <td>was</td>\n",
       "    </tr>\n",
       "    <tr>\n",
       "      <th>7</th>\n",
       "      <td>India</td>\n",
       "      <td>Australia</td>\n",
       "      <td>Japan</td>\n",
       "      <td>Russia</td>\n",
       "      <td>China</td>\n",
       "    </tr>\n",
       "    <tr>\n",
       "      <th>8</th>\n",
       "      <td>Dollar</td>\n",
       "      <td>Rupees</td>\n",
       "      <td>Euros</td>\n",
       "      <td>Cents</td>\n",
       "      <td>Money</td>\n",
       "    </tr>\n",
       "    <tr>\n",
       "      <th>9</th>\n",
       "      <td>eat</td>\n",
       "      <td>sleep</td>\n",
       "      <td>drink</td>\n",
       "      <td>think</td>\n",
       "      <td>dance</td>\n",
       "    </tr>\n",
       "    <tr>\n",
       "      <th>10</th>\n",
       "      <td>car</td>\n",
       "      <td>scooter</td>\n",
       "      <td>bike</td>\n",
       "      <td>bicycle</td>\n",
       "      <td>ship</td>\n",
       "    </tr>\n",
       "    <tr>\n",
       "      <th>11</th>\n",
       "      <td>Poland</td>\n",
       "      <td>Russia</td>\n",
       "      <td>England</td>\n",
       "      <td>Rome</td>\n",
       "      <td>Ukraine</td>\n",
       "    </tr>\n",
       "    <tr>\n",
       "      <th>12</th>\n",
       "      <td>Lake</td>\n",
       "      <td>Sea</td>\n",
       "      <td>River</td>\n",
       "      <td>Pool</td>\n",
       "      <td>Pond</td>\n",
       "    </tr>\n",
       "    <tr>\n",
       "      <th>13</th>\n",
       "      <td>Sun</td>\n",
       "      <td>Moon</td>\n",
       "      <td>Star</td>\n",
       "      <td>Mars</td>\n",
       "      <td>Egypt</td>\n",
       "    </tr>\n",
       "    <tr>\n",
       "      <th>14</th>\n",
       "      <td>fox</td>\n",
       "      <td>wolf</td>\n",
       "      <td>jackal</td>\n",
       "      <td>mouse</td>\n",
       "      <td>panther</td>\n",
       "    </tr>\n",
       "    <tr>\n",
       "      <th>15</th>\n",
       "      <td>veil</td>\n",
       "      <td>turban</td>\n",
       "      <td>helmet</td>\n",
       "      <td>shirt</td>\n",
       "      <td>hat</td>\n",
       "    </tr>\n",
       "    <tr>\n",
       "      <th>16</th>\n",
       "      <td>Physics</td>\n",
       "      <td>Chemistry</td>\n",
       "      <td>Geography</td>\n",
       "      <td>Botany</td>\n",
       "      <td>Universe</td>\n",
       "    </tr>\n",
       "    <tr>\n",
       "      <th>17</th>\n",
       "      <td>Assassinate</td>\n",
       "      <td>Kill</td>\n",
       "      <td>Kidnap</td>\n",
       "      <td>Stab</td>\n",
       "      <td>Murder</td>\n",
       "    </tr>\n",
       "    <tr>\n",
       "      <th>18</th>\n",
       "      <td>Hostel</td>\n",
       "      <td>Hotel</td>\n",
       "      <td>Inn</td>\n",
       "      <td>Club</td>\n",
       "      <td>Motel</td>\n",
       "    </tr>\n",
       "    <tr>\n",
       "      <th>19</th>\n",
       "      <td>Earth</td>\n",
       "      <td>Mars</td>\n",
       "      <td>Neptune</td>\n",
       "      <td>Pluto</td>\n",
       "      <td>Sun</td>\n",
       "    </tr>\n",
       "  </tbody>\n",
       "</table>\n",
       "</div>"
      ],
      "text/plain": [
       "          Word1      Word2      Word3      Word4     Word5\n",
       "0      elephant       lion      tiger       goat     snake\n",
       "1           man  policeman    fireman    teacher   postman\n",
       "2         plane       bird     rocket    balloon       cat\n",
       "3         onion     celery    lettuce  pineapple    potato\n",
       "4         India   football     hockey    cricket  swimming\n",
       "5           who        why       what      where        is\n",
       "6            on         in       over      their       was\n",
       "7         India  Australia      Japan     Russia     China\n",
       "8        Dollar     Rupees      Euros      Cents     Money\n",
       "9           eat      sleep      drink      think     dance\n",
       "10          car    scooter       bike    bicycle      ship\n",
       "11       Poland     Russia    England       Rome   Ukraine\n",
       "12         Lake        Sea      River       Pool      Pond\n",
       "13          Sun       Moon       Star       Mars     Egypt\n",
       "14          fox       wolf     jackal      mouse   panther\n",
       "15         veil     turban     helmet      shirt       hat\n",
       "16      Physics  Chemistry  Geography     Botany  Universe\n",
       "17  Assassinate       Kill     Kidnap       Stab    Murder\n",
       "18       Hostel      Hotel        Inn       Club     Motel\n",
       "19        Earth       Mars    Neptune      Pluto       Sun"
      ]
     },
     "execution_count": 7,
     "metadata": {},
     "output_type": "execute_result"
    }
   ],
   "source": [
    "df"
   ]
  },
  {
   "cell_type": "code",
   "execution_count": 6,
   "id": "affected-desert",
   "metadata": {},
   "outputs": [
    {
     "data": {
      "text/plain": [
       "['elephant', 'lion', 'tiger', 'goat', 'snake']"
      ]
     },
     "execution_count": 6,
     "metadata": {},
     "output_type": "execute_result"
    }
   ],
   "source": [
    "list(df.iloc[0,:])"
   ]
  },
  {
   "cell_type": "code",
   "execution_count": 110,
   "id": "korean-assembly",
   "metadata": {},
   "outputs": [],
   "source": [
    "keyed_vec = gensim.models.KeyedVectors.load_word2vec_format('GoogleNews-vectors-negative300.bin.gz',binary=True)"
   ]
  },
  {
   "cell_type": "code",
   "execution_count": 93,
   "id": "accomplished-student",
   "metadata": {},
   "outputs": [],
   "source": [
    "embeddings_dict = {}\n",
    "with open(\"c:/Users/nishant/odd_one_out/glove.6B/glove.6B.300d.txt\", 'r', encoding=\"utf-8\") as f:\n",
    "     for line in f:\n",
    "        values = line.split()\n",
    "        word = values[0]\n",
    "        vector = np.asarray(values[1:], \"float32\")\n",
    "        embeddings_dict[word] = vector"
   ]
  },
  {
   "cell_type": "code",
   "execution_count": 94,
   "id": "sacred-actor",
   "metadata": {},
   "outputs": [
    {
     "data": {
      "text/plain": [
       "400000"
      ]
     },
     "execution_count": 94,
     "metadata": {},
     "output_type": "execute_result"
    }
   ],
   "source": [
    "len(embeddings_dict)"
   ]
  },
  {
   "cell_type": "code",
   "execution_count": 113,
   "id": "atlantic-miracle",
   "metadata": {},
   "outputs": [
    {
     "data": {
      "text/plain": [
       "array([ 2.00195312e-02,  3.14453125e-01, -2.77343750e-01,  1.20605469e-01,\n",
       "       -2.96630859e-02, -1.06933594e-01,  2.38281250e-01, -3.66210938e-02,\n",
       "        7.32421875e-02,  2.01416016e-02,  1.06445312e-01, -1.12792969e-01,\n",
       "        9.03320312e-02, -3.67187500e-01, -2.38281250e-01, -7.91015625e-02,\n",
       "       -2.71484375e-01, -1.15234375e-01, -2.44140625e-01, -1.82617188e-01,\n",
       "        1.10839844e-01, -1.38671875e-01,  3.80859375e-01, -1.26953125e-01,\n",
       "       -3.44238281e-02, -2.90527344e-02, -4.72656250e-01,  1.18652344e-01,\n",
       "        3.22265625e-01, -2.81250000e-01, -3.93066406e-02, -1.11816406e-01,\n",
       "       -2.49023438e-01,  8.42285156e-03, -2.22656250e-01,  9.58251953e-03,\n",
       "       -4.73632812e-02,  1.63085938e-01,  2.29492188e-01,  1.21582031e-01,\n",
       "       -2.55859375e-01, -4.17480469e-02,  2.48046875e-01,  2.44140625e-01,\n",
       "        3.97949219e-02, -1.66015625e-01,  4.83398438e-02, -1.25000000e-01,\n",
       "        3.37890625e-01,  2.79541016e-02, -2.02148438e-01,  7.71484375e-02,\n",
       "       -2.08740234e-02, -3.06640625e-01, -1.31835938e-01, -7.47070312e-02,\n",
       "        1.18164062e-01, -2.43164062e-01,  5.15625000e-01,  7.17773438e-02,\n",
       "        5.90820312e-02,  7.32421875e-02,  1.57470703e-02, -2.55859375e-01,\n",
       "        8.10546875e-02, -3.98437500e-01, -1.27929688e-01,  7.51953125e-02,\n",
       "       -1.94335938e-01,  5.68847656e-02,  3.04687500e-01,  5.02929688e-02,\n",
       "       -1.78710938e-01,  4.54101562e-02,  2.36816406e-02,  1.01562500e-01,\n",
       "       -6.07910156e-02, -2.38281250e-01, -3.00781250e-01,  3.28125000e-01,\n",
       "       -1.30004883e-02, -5.29785156e-02, -3.14941406e-02, -7.91015625e-02,\n",
       "       -2.63671875e-01, -4.90722656e-02, -8.54492188e-02, -1.53320312e-01,\n",
       "        2.01171875e-01,  8.30078125e-02,  2.17773438e-01,  3.32031250e-01,\n",
       "       -7.81250000e-02,  2.32421875e-01, -7.47070312e-02, -1.81640625e-01,\n",
       "        1.98242188e-01,  2.06054688e-01,  2.51953125e-01, -1.87500000e-01,\n",
       "       -1.33666992e-02, -1.45507812e-01,  1.41601562e-01,  5.85937500e-03,\n",
       "        1.27929688e-01,  8.69140625e-02,  8.88671875e-02, -1.78710938e-01,\n",
       "       -2.56347656e-02, -2.22656250e-01, -4.88281250e-01,  4.15039062e-02,\n",
       "        5.98144531e-02,  1.20605469e-01, -1.72851562e-01,  1.00708008e-02,\n",
       "       -1.34468079e-04, -5.27343750e-01, -8.36181641e-03,  1.59179688e-01,\n",
       "        1.30004883e-02,  2.40478516e-02, -2.98828125e-01, -1.82617188e-01,\n",
       "       -4.04296875e-01,  1.49414062e-01,  3.82812500e-01,  8.10546875e-02,\n",
       "        3.30078125e-01, -8.00781250e-02, -2.39257812e-02,  2.63671875e-01,\n",
       "       -1.46484375e-01,  2.81250000e-01,  1.23291016e-02,  3.58886719e-02,\n",
       "       -1.92382812e-01,  2.96875000e-01, -5.63964844e-02,  1.77734375e-01,\n",
       "        7.42187500e-02, -4.76562500e-01,  1.14746094e-01,  3.69140625e-01,\n",
       "        3.28125000e-01, -1.11816406e-01, -1.04003906e-01,  1.78710938e-01,\n",
       "        1.35742188e-01,  8.00781250e-02,  2.50000000e-01,  2.90527344e-02,\n",
       "       -1.26953125e-01, -4.18090820e-03,  2.55859375e-01, -8.39843750e-02,\n",
       "       -1.22558594e-01, -3.55468750e-01, -8.93554688e-02, -3.06640625e-01,\n",
       "       -8.54492188e-02, -1.32812500e-01,  3.71093750e-01, -9.47265625e-02,\n",
       "       -6.12792969e-02, -1.74560547e-02,  2.89062500e-01, -1.74804688e-01,\n",
       "        4.02832031e-03,  1.93359375e-01, -1.22558594e-01,  3.08593750e-01,\n",
       "       -9.76562500e-02,  2.73437500e-01, -2.87109375e-01, -1.43554688e-01,\n",
       "        1.93359375e-01,  1.66992188e-01,  1.45507812e-01,  3.97949219e-02,\n",
       "       -3.37890625e-01, -1.43554688e-01, -1.97753906e-02,  1.86523438e-01,\n",
       "        1.71875000e-01,  6.88476562e-02,  1.63085938e-01,  9.81445312e-02,\n",
       "       -4.61425781e-02,  3.30078125e-01,  1.10351562e-01, -1.96289062e-01,\n",
       "       -9.57031250e-02,  2.61718750e-01,  6.59179688e-02, -1.45874023e-02,\n",
       "       -3.39355469e-02, -1.59179688e-01, -1.84570312e-01,  8.54492188e-02,\n",
       "        1.23535156e-01, -3.75000000e-01, -9.17968750e-02, -1.79687500e-01,\n",
       "       -7.03125000e-02, -9.76562500e-03,  3.76953125e-01, -1.13769531e-01,\n",
       "        2.53906250e-01, -1.90429688e-01, -3.92578125e-01, -2.28271484e-02,\n",
       "        1.59179688e-01, -5.66406250e-01, -1.70898438e-01,  2.15820312e-01,\n",
       "        3.53515625e-01, -4.19921875e-02,  1.69921875e-01,  1.44531250e-01,\n",
       "        1.34765625e-01,  4.66796875e-01, -6.78710938e-02, -1.71875000e-01,\n",
       "        1.08886719e-01, -3.49121094e-02,  3.27148438e-02,  1.59912109e-02,\n",
       "        3.12500000e-01, -1.02050781e-01,  1.34887695e-02, -1.71875000e-01,\n",
       "       -3.12500000e-01,  2.31445312e-01, -3.00781250e-01, -1.35742188e-01,\n",
       "        6.83593750e-02, -1.28784180e-02,  1.57226562e-01, -1.91406250e-01,\n",
       "        1.11328125e-01, -3.63281250e-01, -1.13281250e-01, -2.65625000e-01,\n",
       "        1.27929688e-01, -7.71484375e-02, -1.94091797e-02,  7.32421875e-02,\n",
       "        2.28515625e-01, -2.72216797e-02, -3.02734375e-01,  2.75390625e-01,\n",
       "       -1.05957031e-01,  9.03320312e-02,  1.92382812e-01, -1.94335938e-01,\n",
       "       -3.43750000e-01, -1.39648438e-01, -3.06640625e-01, -1.18652344e-01,\n",
       "       -1.39648438e-01, -8.34960938e-02,  3.57421875e-01,  1.33789062e-01,\n",
       "        3.36914062e-02,  1.54296875e-01, -2.12890625e-01, -9.86328125e-02,\n",
       "       -8.49609375e-02, -1.94091797e-02,  1.60156250e-01,  1.63085938e-01,\n",
       "       -1.08886719e-01,  2.30468750e-01,  2.10937500e-01, -9.03320312e-02,\n",
       "       -3.54003906e-02,  1.83105469e-02, -2.46093750e-01, -1.59179688e-01,\n",
       "        3.65234375e-01, -2.16796875e-01, -6.73828125e-02,  8.91113281e-03,\n",
       "       -1.60156250e-01, -6.05468750e-02,  5.02929688e-02, -2.27539062e-01,\n",
       "        5.00000000e-01,  9.47265625e-02, -2.83203125e-01, -1.81884766e-02,\n",
       "        1.41601562e-01, -2.43164062e-01, -5.24902344e-02,  1.97265625e-01,\n",
       "       -8.88671875e-02,  3.30078125e-01, -3.71093750e-01,  2.06054688e-01],\n",
       "      dtype=float32)"
      ]
     },
     "execution_count": 113,
     "metadata": {},
     "output_type": "execute_result"
    }
   ],
   "source": [
    "keyed_vec['elephant']"
   ]
  },
  {
   "cell_type": "code",
   "execution_count": 115,
   "id": "cognitive-extent",
   "metadata": {},
   "outputs": [
    {
     "data": {
      "text/plain": [
       "array([[0.5066289]], dtype=float32)"
      ]
     },
     "execution_count": 115,
     "metadata": {},
     "output_type": "execute_result"
    }
   ],
   "source": [
    "cosine_similarity(keyed_vec['elephant'].reshape(1,-1),keyed_vec['snake'].reshape(1,-1))"
   ]
  },
  {
   "cell_type": "code",
   "execution_count": 117,
   "id": "accomplished-ceiling",
   "metadata": {},
   "outputs": [],
   "source": [
    "def predict_odd(words):\n",
    "    new_array = np.zeros((1,300))\n",
    "    #print(new_array)\n",
    "    for w in words:\n",
    "        \n",
    "            w = w.lower()\n",
    "            new_array += keyed_vec[w].reshape(1,-1)\n",
    "        \n",
    "    \n",
    "\n",
    "    new_array /= len(words)\n",
    "    \n",
    "    ans = None\n",
    "    similarity = 1.0\n",
    "    #print(new_array)\n",
    "    \n",
    "    for w in words:\n",
    "        \n",
    "        si = cosine_similarity(keyed_vec[w.lower()].reshape(1,-1),new_array)\n",
    "        if si<=similarity:\n",
    "            ans = w\n",
    "            similarity = si \n",
    "    \n",
    "    \n",
    "    return ans"
   ]
  },
  {
   "cell_type": "code",
   "execution_count": 119,
   "id": "defensive-priest",
   "metadata": {},
   "outputs": [
    {
     "data": {
      "text/plain": [
       "'snake'"
      ]
     },
     "execution_count": 119,
     "metadata": {},
     "output_type": "execute_result"
    }
   ],
   "source": [
    "predict_odd(list(df.iloc[0,:]))\n"
   ]
  },
  {
   "cell_type": "code",
   "execution_count": 120,
   "id": "democratic-denmark",
   "metadata": {},
   "outputs": [],
   "source": [
    "ans= []\n",
    "for i in range(len(df)):\n",
    "    ans.append(predict_odd(list(df.iloc[i,:])))"
   ]
  },
  {
   "cell_type": "code",
   "execution_count": 121,
   "id": "occasional-planner",
   "metadata": {},
   "outputs": [
    {
     "data": {
      "text/plain": [
       "['snake',\n",
       " 'teacher',\n",
       " 'cat',\n",
       " 'pineapple',\n",
       " 'India',\n",
       " 'is',\n",
       " 'was',\n",
       " 'China',\n",
       " 'Money',\n",
       " 'think',\n",
       " 'ship',\n",
       " 'Rome',\n",
       " 'Pool',\n",
       " 'Star',\n",
       " 'mouse',\n",
       " 'helmet',\n",
       " 'Universe',\n",
       " 'Stab',\n",
       " 'Club',\n",
       " 'Neptune']"
      ]
     },
     "execution_count": 121,
     "metadata": {},
     "output_type": "execute_result"
    }
   ],
   "source": [
    "ans "
   ]
  },
  {
   "cell_type": "code",
   "execution_count": 122,
   "id": "transparent-clerk",
   "metadata": {},
   "outputs": [],
   "source": [
    "submission = pd.DataFrame(ans,columns=['OddOne'])"
   ]
  },
  {
   "cell_type": "code",
   "execution_count": 123,
   "id": "isolated-drama",
   "metadata": {},
   "outputs": [],
   "source": [
    "submission.to_csv('submission.csv',index=False)"
   ]
  }
 ],
 "metadata": {
  "kernelspec": {
   "display_name": "Python 3",
   "language": "python",
   "name": "python3"
  },
  "language_info": {
   "codemirror_mode": {
    "name": "ipython",
    "version": 3
   },
   "file_extension": ".py",
   "mimetype": "text/x-python",
   "name": "python",
   "nbconvert_exporter": "python",
   "pygments_lexer": "ipython3",
   "version": "3.8.5"
  }
 },
 "nbformat": 4,
 "nbformat_minor": 5
}
