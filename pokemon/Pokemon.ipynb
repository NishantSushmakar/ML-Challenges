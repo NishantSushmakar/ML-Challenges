{
 "cells": [
  {
   "cell_type": "code",
   "execution_count": 54,
   "metadata": {},
   "outputs": [],
   "source": [
    "import numpy as np\n",
    "import pandas as pd\n",
    "import os\n",
    "from pathlib import Path\n",
    "from keras.preprocessing import image\n",
    "import random\n",
    "from sklearn.model_selection import train_test_split\n",
    "from sklearn import svm\n",
    "from sklearn.metrics import accuracy_score\n",
    "from sklearn.model_selection import GridSearchCV\n",
    "import tensorflow as tf\n",
    "from tensorflow import keras\n",
    "from sklearn.neural_network import MLPClassifier"
   ]
  },
  {
   "cell_type": "code",
   "execution_count": 133,
   "metadata": {},
   "outputs": [
    {
     "name": "stderr",
     "output_type": "stream",
     "text": [
      "C:\\Users\\nishant\\anaconda3\\lib\\site-packages\\PIL\\Image.py:962: UserWarning: Palette images with Transparency expressed in bytes should be converted to RGBA images\n",
      "  warnings.warn(\n"
     ]
    }
   ],
   "source": [
    "p = Path('c:/Users/nishant/pokemon/Train')\n",
    "dirs = p.glob('*')\n",
    "image_data = []\n",
    "for folder in dirs:\n",
    "    for img_path in folder.glob('*.jpg'):\n",
    "        img = image.load_img(img_path,target_size=(100,100))\n",
    "        img_array = image.img_to_array(img)\n",
    "        image_data.append(img_array)"
   ]
  },
  {
   "cell_type": "code",
   "execution_count": 134,
   "metadata": {},
   "outputs": [],
   "source": [
    "df = pd.read_csv('c:/Users/nishant/pokemon/Train/train.csv')"
   ]
  },
  {
   "cell_type": "code",
   "execution_count": 135,
   "metadata": {},
   "outputs": [
    {
     "name": "stdout",
     "output_type": "stream",
     "text": [
      "304\n"
     ]
    }
   ],
   "source": [
    "print(len(image_data))"
   ]
  },
  {
   "cell_type": "code",
   "execution_count": 136,
   "metadata": {},
   "outputs": [
    {
     "data": {
      "text/plain": [
       "(304, 2)"
      ]
     },
     "execution_count": 136,
     "metadata": {},
     "output_type": "execute_result"
    }
   ],
   "source": [
    "df.shape"
   ]
  },
  {
   "cell_type": "code",
   "execution_count": 137,
   "metadata": {},
   "outputs": [
    {
     "data": {
      "text/plain": [
       "Charmander    102\n",
       "Pikachu       101\n",
       "Bulbasaur     101\n",
       "Name: NameOfPokemon, dtype: int64"
      ]
     },
     "execution_count": 137,
     "metadata": {},
     "output_type": "execute_result"
    }
   ],
   "source": [
    "df['NameOfPokemon'].value_counts()"
   ]
  },
  {
   "cell_type": "code",
   "execution_count": 47,
   "metadata": {},
   "outputs": [],
   "source": [
    "dic_of_pok = {\n",
    "      'Charmander' : 0 ,\n",
    "      'Pikachu' : 1,\n",
    "       'Bulbasaur': 2 \n",
    " } "
   ]
  },
  {
   "cell_type": "code",
   "execution_count": 138,
   "metadata": {},
   "outputs": [],
   "source": [
    "df['NameOfPokemon'] = df['NameOfPokemon'].apply(lambda x:dic_of_pok[x])"
   ]
  },
  {
   "cell_type": "code",
   "execution_count": 139,
   "metadata": {},
   "outputs": [],
   "source": [
    "labels = df['NameOfPokemon'].values\n"
   ]
  },
  {
   "cell_type": "code",
   "execution_count": 140,
   "metadata": {},
   "outputs": [],
   "source": [
    "train = np.array(image_data)"
   ]
  },
  {
   "cell_type": "code",
   "execution_count": 141,
   "metadata": {},
   "outputs": [],
   "source": [
    "combined = list(zip(train,labels))\n",
    "random.shuffle(combined)\n",
    "train[:],labels[:] = zip(*combined)"
   ]
  },
  {
   "cell_type": "code",
   "execution_count": 142,
   "metadata": {},
   "outputs": [],
   "source": [
    "m = train.shape[0]\n",
    "train = train.reshape((m,-1))"
   ]
  },
  {
   "cell_type": "code",
   "execution_count": 143,
   "metadata": {},
   "outputs": [
    {
     "name": "stdout",
     "output_type": "stream",
     "text": [
      "(304, 30000)\n",
      "(304,)\n"
     ]
    }
   ],
   "source": [
    "print(train.shape)\n",
    "print(labels.shape)"
   ]
  },
  {
   "cell_type": "markdown",
   "metadata": {},
   "source": [
    "# Train"
   ]
  },
  {
   "cell_type": "code",
   "execution_count": 144,
   "metadata": {},
   "outputs": [],
   "source": [
    "X_train, X_test, y_train, y_test = train_test_split(train, labels, stratify=labels,random_state=1,test_size=0.1)"
   ]
  },
  {
   "cell_type": "code",
   "execution_count": 145,
   "metadata": {},
   "outputs": [
    {
     "name": "stdout",
     "output_type": "stream",
     "text": [
      "(273, 30000)\n",
      "(31, 30000)\n",
      "(273,)\n",
      "(31,)\n"
     ]
    }
   ],
   "source": [
    "print(X_train.shape)\n",
    "print(X_test.shape)\n",
    "print(y_train.shape)\n",
    "print(y_test.shape)"
   ]
  },
  {
   "cell_type": "code",
   "execution_count": 146,
   "metadata": {},
   "outputs": [],
   "source": [
    "clf = MLPClassifier(hidden_layer_sizes = 1500, max_iter=1500)\n"
   ]
  },
  {
   "cell_type": "code",
   "execution_count": 147,
   "metadata": {},
   "outputs": [
    {
     "name": "stdout",
     "output_type": "stream",
     "text": [
      "0.673992673992674\n",
      "0.4838709677419355\n"
     ]
    }
   ],
   "source": [
    "clf.fit(X_train,y_train)\n",
    "print(clf.score(X_train,y_train))\n",
    "print(clf.score(X_test,y_test))"
   ]
  },
  {
   "cell_type": "code",
   "execution_count": 119,
   "metadata": {},
   "outputs": [],
   "source": [
    "layer = np.arange(1500,1700,50)"
   ]
  },
  {
   "cell_type": "code",
   "execution_count": 120,
   "metadata": {},
   "outputs": [],
   "source": [
    "train = []\n",
    "test = []\n",
    "for i in layer:\n",
    "    clf = MLPClassifier(hidden_layer_sizes = i, max_iter=3000)\n",
    "    clf.fit(X_train,y_train)\n",
    "    \n",
    "    train.append(clf.score(X_train,y_train))\n",
    "    test.append(clf.score(X_test,y_test))"
   ]
  },
  {
   "cell_type": "code",
   "execution_count": 87,
   "metadata": {},
   "outputs": [],
   "source": [
    "import matplotlib.pyplot as plt"
   ]
  },
  {
   "cell_type": "code",
   "execution_count": 121,
   "metadata": {},
   "outputs": [
    {
     "data": {
      "image/png": "[encoded data removed]",
      "text/plain": [
       "<Figure size 360x360 with 1 Axes>"
      ]
     },
     "metadata": {
      "needs_background": "light"
     },
     "output_type": "display_data"
    }
   ],
   "source": [
    "plt.figure(figsize=(5,5))\n",
    "plt.plot(train,color='red',label='Train')\n",
    "plt.plot(test,label='Test')\n",
    "plt.legend()\n",
    "plt.show()"
   ]
  },
  {
   "cell_type": "code",
   "execution_count": 122,
   "metadata": {},
   "outputs": [
    {
     "data": {
      "text/plain": [
       "array([1500, 1550, 1600, 1650])"
      ]
     },
     "execution_count": 122,
     "metadata": {},
     "output_type": "execute_result"
    }
   ],
   "source": [
    "layer"
   ]
  },
  {
   "cell_type": "code",
   "execution_count": 124,
   "metadata": {},
   "outputs": [
    {
     "name": "stderr",
     "output_type": "stream",
     "text": [
      "C:\\Users\\nishant\\anaconda3\\lib\\site-packages\\sklearn\\neural_network\\_multilayer_perceptron.py:582: ConvergenceWarning: Stochastic Optimizer: Maximum iterations (1) reached and the optimization hasn't converged yet.\n",
      "  warnings.warn(\n"
     ]
    }
   ],
   "source": [
    "train = []\n",
    "test = []\n",
    "for i in range(1,3002,500):\n",
    "    clf = MLPClassifier(hidden_layer_sizes = 1500, max_iter=i)\n",
    "    clf.fit(X_train,y_train)\n",
    "    \n",
    "    train.append(clf.score(X_train,y_train))\n",
    "    test.append(clf.score(X_test,y_test))"
   ]
  },
  {
   "cell_type": "code",
   "execution_count": 125,
   "metadata": {},
   "outputs": [
    {
     "data": {
      "image/png": "[encoded data removed]",
      "text/plain": [
       "<Figure size 360x360 with 1 Axes>"
      ]
     },
     "metadata": {
      "needs_background": "light"
     },
     "output_type": "display_data"
    }
   ],
   "source": [
    "plt.figure(figsize=(5,5))\n",
    "plt.plot(train,color='red',label='Train')\n",
    "plt.plot(test,label='Test')\n",
    "plt.legend()\n",
    "plt.show()"
   ]
  },
  {
   "cell_type": "code",
   "execution_count": 127,
   "metadata": {},
   "outputs": [
    {
     "name": "stdout",
     "output_type": "stream",
     "text": [
      "1\n",
      "501\n",
      "1001\n",
      "1501\n",
      "2001\n",
      "2501\n",
      "3001\n"
     ]
    }
   ],
   "source": [
    "for i in range(1,3002,500):\n",
    "    print(i)"
   ]
  },
  {
   "cell_type": "markdown",
   "metadata": {},
   "source": [
    "# Test"
   ]
  },
  {
   "cell_type": "code",
   "execution_count": 149,
   "metadata": {},
   "outputs": [],
   "source": [
    "p = Path('c:/Users/nishant/pokemon/Test')\n",
    "dirs = p.glob('*')\n",
    "image_data = []\n",
    "for folder in dirs:\n",
    "    for img_path in folder.glob('*.jpg'):\n",
    "        img = image.load_img(img_path,target_size=(100,100))\n",
    "        img_array = image.img_to_array(img)\n",
    "        image_data.append(img_array)"
   ]
  },
  {
   "cell_type": "code",
   "execution_count": 150,
   "metadata": {},
   "outputs": [],
   "source": [
    "test = np.array(image_data)"
   ]
  },
  {
   "cell_type": "code",
   "execution_count": 151,
   "metadata": {},
   "outputs": [],
   "source": [
    "test = test.reshape((test.shape[0],-1))"
   ]
  },
  {
   "cell_type": "code",
   "execution_count": 152,
   "metadata": {},
   "outputs": [
    {
     "data": {
      "text/plain": [
       "(123, 30000)"
      ]
     },
     "execution_count": 152,
     "metadata": {},
     "output_type": "execute_result"
    }
   ],
   "source": [
    "test.shape"
   ]
  },
  {
   "cell_type": "code",
   "execution_count": 153,
   "metadata": {},
   "outputs": [],
   "source": [
    "test_pred = clf.predict(test)"
   ]
  },
  {
   "cell_type": "code",
   "execution_count": 155,
   "metadata": {},
   "outputs": [],
   "source": [
    "df_test = pd.read_csv('c:/Users/nishant/pokemon/Test/test.csv')"
   ]
  },
  {
   "cell_type": "code",
   "execution_count": 157,
   "metadata": {},
   "outputs": [],
   "source": [
    "pred_df = pd.DataFrame(test_pred,columns=['NameOfPokemon'])"
   ]
  },
  {
   "cell_type": "code",
   "execution_count": 158,
   "metadata": {},
   "outputs": [],
   "source": [
    "df_test = pd.concat([df_test,pred_df],axis=1)"
   ]
  },
  {
   "cell_type": "code",
   "execution_count": 161,
   "metadata": {},
   "outputs": [],
   "source": [
    "convt_dict = {\n",
    "      0:'Charmander'  ,\n",
    "      1:'Pikachu',\n",
    "       2:'Bulbasaur' \n",
    " } "
   ]
  },
  {
   "cell_type": "code",
   "execution_count": 163,
   "metadata": {},
   "outputs": [],
   "source": [
    "df_test['NameOfPokemon'] = df_test['NameOfPokemon'].apply(lambda x:convt_dict[x])"
   ]
  },
  {
   "cell_type": "code",
   "execution_count": 165,
   "metadata": {},
   "outputs": [],
   "source": [
    "df_test.to_csv('submission.csv',index=False)"
   ]
  },
  {
   "cell_type": "markdown",
   "metadata": {},
   "source": [
    "# CNN"
   ]
  },
  {
   "cell_type": "code",
   "execution_count": 21,
   "metadata": {},
   "outputs": [],
   "source": [
    "from keras.layers import *\n",
    "from keras.models import Sequential\n",
    "import numpy as np\n",
    "import pandas as pd\n",
    "import shutil\n",
    "import os\n",
    "import random\n",
    "from keras.preprocessing import image\n",
    "import keras\n",
    "from keras.applications import MobileNetV2\n",
    "from keras.models import Model"
   ]
  },
  {
   "cell_type": "code",
   "execution_count": 2,
   "metadata": {},
   "outputs": [],
   "source": [
    "classes = ['Charmander','Pikachu','Bulbasaur']"
   ]
  },
  {
   "cell_type": "code",
   "execution_count": 4,
   "metadata": {},
   "outputs": [],
   "source": [
    "for c in classes:\n",
    "    path = 'c:/Users/nishant/pokemon/Train/train/'+c\n",
    "    path_test = 'c:/Users/nishant/pokemon/Train/validation/' + c\n",
    "    os.mkdir(path)\n",
    "    os.mkdir(path_test)"
   ]
  },
  {
   "cell_type": "code",
   "execution_count": 5,
   "metadata": {},
   "outputs": [],
   "source": [
    "df = pd.read_csv('C:/Users/nishant/pokemon/Train/train.csv')"
   ]
  },
  {
   "cell_type": "code",
   "execution_count": 6,
   "metadata": {},
   "outputs": [
    {
     "data": {
      "text/html": [
       "<div>\n",
       "<style scoped>\n",
       "    .dataframe tbody tr th:only-of-type {\n",
       "        vertical-align: middle;\n",
       "    }\n",
       "\n",
       "    .dataframe tbody tr th {\n",
       "        vertical-align: top;\n",
       "    }\n",
       "\n",
       "    .dataframe thead th {\n",
       "        text-align: right;\n",
       "    }\n",
       "</style>\n",
       "<table border=\"1\" class=\"dataframe\">\n",
       "  <thead>\n",
       "    <tr style=\"text-align: right;\">\n",
       "      <th></th>\n",
       "      <th>ImageId</th>\n",
       "      <th>NameOfPokemon</th>\n",
       "    </tr>\n",
       "  </thead>\n",
       "  <tbody>\n",
       "    <tr>\n",
       "      <th>0</th>\n",
       "      <td>296.jpg</td>\n",
       "      <td>Pikachu</td>\n",
       "    </tr>\n",
       "    <tr>\n",
       "      <th>1</th>\n",
       "      <td>297.jpg</td>\n",
       "      <td>Pikachu</td>\n",
       "    </tr>\n",
       "    <tr>\n",
       "      <th>2</th>\n",
       "      <td>298.jpg</td>\n",
       "      <td>Pikachu</td>\n",
       "    </tr>\n",
       "    <tr>\n",
       "      <th>3</th>\n",
       "      <td>299.jpg</td>\n",
       "      <td>Pikachu</td>\n",
       "    </tr>\n",
       "    <tr>\n",
       "      <th>4</th>\n",
       "      <td>300.jpg</td>\n",
       "      <td>Pikachu</td>\n",
       "    </tr>\n",
       "  </tbody>\n",
       "</table>\n",
       "</div>"
      ],
      "text/plain": [
       "   ImageId NameOfPokemon\n",
       "0  296.jpg       Pikachu\n",
       "1  297.jpg       Pikachu\n",
       "2  298.jpg       Pikachu\n",
       "3  299.jpg       Pikachu\n",
       "4  300.jpg       Pikachu"
      ]
     },
     "execution_count": 6,
     "metadata": {},
     "output_type": "execute_result"
    }
   ],
   "source": [
    "df.head()"
   ]
  },
  {
   "cell_type": "code",
   "execution_count": 7,
   "metadata": {},
   "outputs": [
    {
     "name": "stdout",
     "output_type": "stream",
     "text": [
      "c:/Users/nishant/pokemon/Train/Images/296.jpg\n",
      "c:/Users/nishant/pokemon/Train/train/Pikachu/296.jpg\n",
      "c:/Users/nishant/pokemon/Train/Images/297.jpg\n",
      "c:/Users/nishant/pokemon/Train/train/Pikachu/297.jpg\n",
      "c:/Users/nishant/pokemon/Train/Images/298.jpg\n",
      "c:/Users/nishant/pokemon/Train/train/Pikachu/298.jpg\n",
      "c:/Users/nishant/pokemon/Train/Images/299.jpg\n",
      "c:/Users/nishant/pokemon/Train/train/Pikachu/299.jpg\n",
      "c:/Users/nishant/pokemon/Train/Images/300.jpg\n",
      "c:/Users/nishant/pokemon/Train/train/Pikachu/300.jpg\n",
      "c:/Users/nishant/pokemon/Train/Images/301.jpg\n",
      "c:/Users/nishant/pokemon/Train/train/Pikachu/301.jpg\n",
      "c:/Users/nishant/pokemon/Train/Images/302.jpg\n",
      "c:/Users/nishant/pokemon/Train/train/Pikachu/302.jpg\n",
      "c:/Users/nishant/pokemon/Train/Images/303.jpg\n",
      "c:/Users/nishant/pokemon/Train/train/Pikachu/303.jpg\n",
      "c:/Users/nishant/pokemon/Train/Images/304.jpg\n",
      "c:/Users/nishant/pokemon/Train/train/Pikachu/304.jpg\n",
      "c:/Users/nishant/pokemon/Train/Images/305.jpg\n",
      "c:/Users/nishant/pokemon/Train/train/Pikachu/305.jpg\n",
      "c:/Users/nishant/pokemon/Train/Images/306.jpg\n",
      "c:/Users/nishant/pokemon/Train/train/Pikachu/306.jpg\n",
      "c:/Users/nishant/pokemon/Train/Images/307.jpg\n",
      "c:/Users/nishant/pokemon/Train/train/Pikachu/307.jpg\n",
      "c:/Users/nishant/pokemon/Train/Images/308.jpg\n",
      "c:/Users/nishant/pokemon/Train/train/Pikachu/308.jpg\n",
      "c:/Users/nishant/pokemon/Train/Images/309.jpg\n",
      "c:/Users/nishant/pokemon/Train/train/Pikachu/309.jpg\n",
      "c:/Users/nishant/pokemon/Train/Images/310.jpg\n",
      "c:/Users/nishant/pokemon/Train/train/Pikachu/310.jpg\n",
      "c:/Users/nishant/pokemon/Train/Images/311.jpg\n",
      "c:/Users/nishant/pokemon/Train/train/Pikachu/311.jpg\n",
      "c:/Users/nishant/pokemon/Train/Images/312.jpg\n",
      "c:/Users/nishant/pokemon/Train/train/Pikachu/312.jpg\n",
      "c:/Users/nishant/pokemon/Train/Images/313.jpg\n",
      "c:/Users/nishant/pokemon/Train/train/Pikachu/313.jpg\n",
      "c:/Users/nishant/pokemon/Train/Images/314.jpg\n",
      "c:/Users/nishant/pokemon/Train/train/Pikachu/314.jpg\n",
      "c:/Users/nishant/pokemon/Train/Images/315.jpg\n",
      "c:/Users/nishant/pokemon/Train/train/Pikachu/315.jpg\n",
      "c:/Users/nishant/pokemon/Train/Images/316.jpg\n",
      "c:/Users/nishant/pokemon/Train/train/Pikachu/316.jpg\n",
      "c:/Users/nishant/pokemon/Train/Images/317.jpg\n",
      "c:/Users/nishant/pokemon/Train/train/Pikachu/317.jpg\n",
      "c:/Users/nishant/pokemon/Train/Images/318.jpg\n",
      "c:/Users/nishant/pokemon/Train/train/Pikachu/318.jpg\n",
      "c:/Users/nishant/pokemon/Train/Images/319.jpg\n",
      "c:/Users/nishant/pokemon/Train/train/Pikachu/319.jpg\n",
      "c:/Users/nishant/pokemon/Train/Images/320.jpg\n",
      "c:/Users/nishant/pokemon/Train/train/Pikachu/320.jpg\n",
      "c:/Users/nishant/pokemon/Train/Images/321.jpg\n",
      "c:/Users/nishant/pokemon/Train/train/Pikachu/321.jpg\n",
      "c:/Users/nishant/pokemon/Train/Images/322.jpg\n",
      "c:/Users/nishant/pokemon/Train/train/Pikachu/322.jpg\n",
      "c:/Users/nishant/pokemon/Train/Images/323.jpg\n",
      "c:/Users/nishant/pokemon/Train/train/Pikachu/323.jpg\n",
      "c:/Users/nishant/pokemon/Train/Images/324.jpg\n",
      "c:/Users/nishant/pokemon/Train/train/Pikachu/324.jpg\n",
      "c:/Users/nishant/pokemon/Train/Images/325.jpg\n",
      "c:/Users/nishant/pokemon/Train/train/Pikachu/325.jpg\n",
      "c:/Users/nishant/pokemon/Train/Images/326.jpg\n",
      "c:/Users/nishant/pokemon/Train/train/Pikachu/326.jpg\n",
      "c:/Users/nishant/pokemon/Train/Images/327.jpg\n",
      "c:/Users/nishant/pokemon/Train/train/Pikachu/327.jpg\n",
      "c:/Users/nishant/pokemon/Train/Images/328.jpg\n",
      "c:/Users/nishant/pokemon/Train/train/Pikachu/328.jpg\n",
      "c:/Users/nishant/pokemon/Train/Images/329.jpg\n",
      "c:/Users/nishant/pokemon/Train/train/Pikachu/329.jpg\n",
      "c:/Users/nishant/pokemon/Train/Images/330.jpg\n",
      "c:/Users/nishant/pokemon/Train/train/Pikachu/330.jpg\n",
      "c:/Users/nishant/pokemon/Train/Images/331.jpg\n",
      "c:/Users/nishant/pokemon/Train/train/Pikachu/331.jpg\n",
      "c:/Users/nishant/pokemon/Train/Images/332.jpg\n",
      "c:/Users/nishant/pokemon/Train/train/Pikachu/332.jpg\n",
      "c:/Users/nishant/pokemon/Train/Images/333.jpg\n",
      "c:/Users/nishant/pokemon/Train/train/Pikachu/333.jpg\n",
      "c:/Users/nishant/pokemon/Train/Images/334.jpg\n",
      "c:/Users/nishant/pokemon/Train/train/Pikachu/334.jpg\n",
      "c:/Users/nishant/pokemon/Train/Images/335.jpg\n",
      "c:/Users/nishant/pokemon/Train/train/Pikachu/335.jpg\n",
      "c:/Users/nishant/pokemon/Train/Images/336.jpg\n",
      "c:/Users/nishant/pokemon/Train/train/Pikachu/336.jpg\n",
      "c:/Users/nishant/pokemon/Train/Images/337.jpg\n",
      "c:/Users/nishant/pokemon/Train/train/Pikachu/337.jpg\n",
      "c:/Users/nishant/pokemon/Train/Images/338.jpg\n",
      "c:/Users/nishant/pokemon/Train/train/Pikachu/338.jpg\n",
      "c:/Users/nishant/pokemon/Train/Images/339.jpg\n",
      "c:/Users/nishant/pokemon/Train/train/Pikachu/339.jpg\n",
      "c:/Users/nishant/pokemon/Train/Images/340.jpg\n",
      "c:/Users/nishant/pokemon/Train/train/Pikachu/340.jpg\n",
      "c:/Users/nishant/pokemon/Train/Images/341.jpg\n",
      "c:/Users/nishant/pokemon/Train/train/Pikachu/341.jpg\n",
      "c:/Users/nishant/pokemon/Train/Images/342.jpg\n",
      "c:/Users/nishant/pokemon/Train/train/Pikachu/342.jpg\n",
      "c:/Users/nishant/pokemon/Train/Images/343.jpg\n",
      "c:/Users/nishant/pokemon/Train/train/Pikachu/343.jpg\n",
      "c:/Users/nishant/pokemon/Train/Images/344.jpg\n",
      "c:/Users/nishant/pokemon/Train/train/Pikachu/344.jpg\n",
      "c:/Users/nishant/pokemon/Train/Images/345.jpg\n",
      "c:/Users/nishant/pokemon/Train/train/Pikachu/345.jpg\n",
      "c:/Users/nishant/pokemon/Train/Images/346.jpg\n",
      "c:/Users/nishant/pokemon/Train/train/Pikachu/346.jpg\n",
      "c:/Users/nishant/pokemon/Train/Images/347.jpg\n",
      "c:/Users/nishant/pokemon/Train/train/Pikachu/347.jpg\n",
      "c:/Users/nishant/pokemon/Train/Images/348.jpg\n",
      "c:/Users/nishant/pokemon/Train/train/Pikachu/348.jpg\n",
      "c:/Users/nishant/pokemon/Train/Images/349.jpg\n",
      "c:/Users/nishant/pokemon/Train/train/Pikachu/349.jpg\n",
      "c:/Users/nishant/pokemon/Train/Images/350.jpg\n",
      "c:/Users/nishant/pokemon/Train/train/Pikachu/350.jpg\n",
      "c:/Users/nishant/pokemon/Train/Images/351.jpg\n",
      "c:/Users/nishant/pokemon/Train/train/Pikachu/351.jpg\n",
      "c:/Users/nishant/pokemon/Train/Images/352.jpg\n",
      "c:/Users/nishant/pokemon/Train/train/Pikachu/352.jpg\n",
      "c:/Users/nishant/pokemon/Train/Images/353.jpg\n",
      "c:/Users/nishant/pokemon/Train/train/Pikachu/353.jpg\n",
      "c:/Users/nishant/pokemon/Train/Images/354.jpg\n",
      "c:/Users/nishant/pokemon/Train/train/Pikachu/354.jpg\n",
      "c:/Users/nishant/pokemon/Train/Images/355.jpg\n",
      "c:/Users/nishant/pokemon/Train/train/Pikachu/355.jpg\n",
      "c:/Users/nishant/pokemon/Train/Images/356.jpg\n",
      "c:/Users/nishant/pokemon/Train/train/Pikachu/356.jpg\n",
      "c:/Users/nishant/pokemon/Train/Images/357.jpg\n",
      "c:/Users/nishant/pokemon/Train/train/Pikachu/357.jpg\n",
      "c:/Users/nishant/pokemon/Train/Images/358.jpg\n",
      "c:/Users/nishant/pokemon/Train/train/Pikachu/358.jpg\n",
      "c:/Users/nishant/pokemon/Train/Images/359.jpg\n",
      "c:/Users/nishant/pokemon/Train/train/Pikachu/359.jpg\n",
      "c:/Users/nishant/pokemon/Train/Images/360.jpg\n",
      "c:/Users/nishant/pokemon/Train/train/Pikachu/360.jpg\n",
      "c:/Users/nishant/pokemon/Train/Images/361.jpg\n",
      "c:/Users/nishant/pokemon/Train/train/Pikachu/361.jpg\n",
      "c:/Users/nishant/pokemon/Train/Images/362.jpg\n",
      "c:/Users/nishant/pokemon/Train/train/Pikachu/362.jpg\n",
      "c:/Users/nishant/pokemon/Train/Images/363.jpg\n",
      "c:/Users/nishant/pokemon/Train/train/Pikachu/363.jpg\n",
      "c:/Users/nishant/pokemon/Train/Images/364.jpg\n",
      "c:/Users/nishant/pokemon/Train/train/Pikachu/364.jpg\n",
      "c:/Users/nishant/pokemon/Train/Images/365.jpg\n",
      "c:/Users/nishant/pokemon/Train/train/Pikachu/365.jpg\n",
      "c:/Users/nishant/pokemon/Train/Images/366.jpg\n",
      "c:/Users/nishant/pokemon/Train/train/Pikachu/366.jpg\n",
      "c:/Users/nishant/pokemon/Train/Images/367.jpg\n",
      "c:/Users/nishant/pokemon/Train/train/Pikachu/367.jpg\n",
      "c:/Users/nishant/pokemon/Train/Images/368.jpg\n",
      "c:/Users/nishant/pokemon/Train/train/Pikachu/368.jpg\n",
      "c:/Users/nishant/pokemon/Train/Images/369.jpg\n",
      "c:/Users/nishant/pokemon/Train/train/Pikachu/369.jpg\n",
      "c:/Users/nishant/pokemon/Train/Images/370.jpg\n",
      "c:/Users/nishant/pokemon/Train/train/Pikachu/370.jpg\n",
      "c:/Users/nishant/pokemon/Train/Images/371.jpg\n",
      "c:/Users/nishant/pokemon/Train/train/Pikachu/371.jpg\n",
      "c:/Users/nishant/pokemon/Train/Images/372.jpg\n",
      "c:/Users/nishant/pokemon/Train/train/Pikachu/372.jpg\n",
      "c:/Users/nishant/pokemon/Train/Images/373.jpg\n",
      "c:/Users/nishant/pokemon/Train/train/Pikachu/373.jpg\n",
      "c:/Users/nishant/pokemon/Train/Images/374.jpg\n",
      "c:/Users/nishant/pokemon/Train/train/Pikachu/374.jpg\n",
      "c:/Users/nishant/pokemon/Train/Images/375.jpg\n",
      "c:/Users/nishant/pokemon/Train/train/Pikachu/375.jpg\n",
      "c:/Users/nishant/pokemon/Train/Images/376.jpg\n",
      "c:/Users/nishant/pokemon/Train/train/Pikachu/376.jpg\n",
      "c:/Users/nishant/pokemon/Train/Images/377.jpg\n",
      "c:/Users/nishant/pokemon/Train/train/Pikachu/377.jpg\n",
      "c:/Users/nishant/pokemon/Train/Images/378.jpg\n",
      "c:/Users/nishant/pokemon/Train/train/Pikachu/378.jpg\n",
      "c:/Users/nishant/pokemon/Train/Images/379.jpg\n",
      "c:/Users/nishant/pokemon/Train/train/Pikachu/379.jpg\n"
     ]
    },
    {
     "name": "stdout",
     "output_type": "stream",
     "text": [
      "c:/Users/nishant/pokemon/Train/Images/380.jpg\n",
      "c:/Users/nishant/pokemon/Train/train/Pikachu/380.jpg\n",
      "c:/Users/nishant/pokemon/Train/Images/381.jpg\n",
      "c:/Users/nishant/pokemon/Train/train/Pikachu/381.jpg\n",
      "c:/Users/nishant/pokemon/Train/Images/382.jpg\n",
      "c:/Users/nishant/pokemon/Train/train/Pikachu/382.jpg\n",
      "c:/Users/nishant/pokemon/Train/Images/383.jpg\n",
      "c:/Users/nishant/pokemon/Train/train/Pikachu/383.jpg\n",
      "c:/Users/nishant/pokemon/Train/Images/384.jpg\n",
      "c:/Users/nishant/pokemon/Train/train/Pikachu/384.jpg\n",
      "c:/Users/nishant/pokemon/Train/Images/385.jpg\n",
      "c:/Users/nishant/pokemon/Train/train/Pikachu/385.jpg\n",
      "c:/Users/nishant/pokemon/Train/Images/386.jpg\n",
      "c:/Users/nishant/pokemon/Train/train/Pikachu/386.jpg\n",
      "c:/Users/nishant/pokemon/Train/Images/387.jpg\n",
      "c:/Users/nishant/pokemon/Train/train/Pikachu/387.jpg\n",
      "c:/Users/nishant/pokemon/Train/Images/388.jpg\n",
      "c:/Users/nishant/pokemon/Train/train/Pikachu/388.jpg\n",
      "c:/Users/nishant/pokemon/Train/Images/389.jpg\n",
      "c:/Users/nishant/pokemon/Train/train/Pikachu/389.jpg\n",
      "c:/Users/nishant/pokemon/Train/Images/390.jpg\n",
      "c:/Users/nishant/pokemon/Train/train/Pikachu/390.jpg\n",
      "c:/Users/nishant/pokemon/Train/Images/391.jpg\n",
      "c:/Users/nishant/pokemon/Train/train/Pikachu/391.jpg\n",
      "c:/Users/nishant/pokemon/Train/Images/392.jpg\n",
      "c:/Users/nishant/pokemon/Train/train/Pikachu/392.jpg\n",
      "c:/Users/nishant/pokemon/Train/Images/393.jpg\n",
      "c:/Users/nishant/pokemon/Train/train/Pikachu/393.jpg\n",
      "c:/Users/nishant/pokemon/Train/Images/394.jpg\n",
      "c:/Users/nishant/pokemon/Train/train/Pikachu/394.jpg\n",
      "c:/Users/nishant/pokemon/Train/Images/395.jpg\n",
      "c:/Users/nishant/pokemon/Train/train/Pikachu/395.jpg\n",
      "c:/Users/nishant/pokemon/Train/Images/396.jpg\n",
      "c:/Users/nishant/pokemon/Train/train/Pikachu/396.jpg\n",
      "c:/Users/nishant/pokemon/Train/Images/397.jpg\n",
      "c:/Users/nishant/pokemon/Train/train/Bulbasaur/397.jpg\n",
      "c:/Users/nishant/pokemon/Train/Images/398.jpg\n",
      "c:/Users/nishant/pokemon/Train/train/Bulbasaur/398.jpg\n",
      "c:/Users/nishant/pokemon/Train/Images/399.jpg\n",
      "c:/Users/nishant/pokemon/Train/train/Bulbasaur/399.jpg\n",
      "c:/Users/nishant/pokemon/Train/Images/400.jpg\n",
      "c:/Users/nishant/pokemon/Train/train/Bulbasaur/400.jpg\n",
      "c:/Users/nishant/pokemon/Train/Images/401.jpg\n",
      "c:/Users/nishant/pokemon/Train/train/Bulbasaur/401.jpg\n",
      "c:/Users/nishant/pokemon/Train/Images/402.jpg\n",
      "c:/Users/nishant/pokemon/Train/train/Bulbasaur/402.jpg\n",
      "c:/Users/nishant/pokemon/Train/Images/403.jpg\n",
      "c:/Users/nishant/pokemon/Train/train/Bulbasaur/403.jpg\n",
      "c:/Users/nishant/pokemon/Train/Images/404.jpg\n",
      "c:/Users/nishant/pokemon/Train/train/Bulbasaur/404.jpg\n",
      "c:/Users/nishant/pokemon/Train/Images/405.jpg\n",
      "c:/Users/nishant/pokemon/Train/train/Bulbasaur/405.jpg\n",
      "c:/Users/nishant/pokemon/Train/Images/406.jpg\n",
      "c:/Users/nishant/pokemon/Train/train/Bulbasaur/406.jpg\n",
      "c:/Users/nishant/pokemon/Train/Images/407.jpg\n",
      "c:/Users/nishant/pokemon/Train/train/Bulbasaur/407.jpg\n",
      "c:/Users/nishant/pokemon/Train/Images/408.jpg\n",
      "c:/Users/nishant/pokemon/Train/train/Bulbasaur/408.jpg\n",
      "c:/Users/nishant/pokemon/Train/Images/409.jpg\n",
      "c:/Users/nishant/pokemon/Train/train/Bulbasaur/409.jpg\n",
      "c:/Users/nishant/pokemon/Train/Images/410.jpg\n",
      "c:/Users/nishant/pokemon/Train/train/Bulbasaur/410.jpg\n",
      "c:/Users/nishant/pokemon/Train/Images/411.jpg\n",
      "c:/Users/nishant/pokemon/Train/train/Bulbasaur/411.jpg\n",
      "c:/Users/nishant/pokemon/Train/Images/412.jpg\n",
      "c:/Users/nishant/pokemon/Train/train/Bulbasaur/412.jpg\n",
      "c:/Users/nishant/pokemon/Train/Images/413.jpg\n",
      "c:/Users/nishant/pokemon/Train/train/Bulbasaur/413.jpg\n",
      "c:/Users/nishant/pokemon/Train/Images/414.jpg\n",
      "c:/Users/nishant/pokemon/Train/train/Bulbasaur/414.jpg\n",
      "c:/Users/nishant/pokemon/Train/Images/415.jpg\n",
      "c:/Users/nishant/pokemon/Train/train/Bulbasaur/415.jpg\n",
      "c:/Users/nishant/pokemon/Train/Images/416.jpg\n",
      "c:/Users/nishant/pokemon/Train/train/Bulbasaur/416.jpg\n",
      "c:/Users/nishant/pokemon/Train/Images/417.jpg\n",
      "c:/Users/nishant/pokemon/Train/train/Bulbasaur/417.jpg\n",
      "c:/Users/nishant/pokemon/Train/Images/418.jpg\n",
      "c:/Users/nishant/pokemon/Train/train/Bulbasaur/418.jpg\n",
      "c:/Users/nishant/pokemon/Train/Images/419.jpg\n",
      "c:/Users/nishant/pokemon/Train/train/Bulbasaur/419.jpg\n",
      "c:/Users/nishant/pokemon/Train/Images/420.jpg\n",
      "c:/Users/nishant/pokemon/Train/train/Bulbasaur/420.jpg\n",
      "c:/Users/nishant/pokemon/Train/Images/421.jpg\n",
      "c:/Users/nishant/pokemon/Train/train/Bulbasaur/421.jpg\n",
      "c:/Users/nishant/pokemon/Train/Images/422.jpg\n",
      "c:/Users/nishant/pokemon/Train/train/Bulbasaur/422.jpg\n",
      "c:/Users/nishant/pokemon/Train/Images/423.jpg\n",
      "c:/Users/nishant/pokemon/Train/train/Bulbasaur/423.jpg\n",
      "c:/Users/nishant/pokemon/Train/Images/424.jpg\n",
      "c:/Users/nishant/pokemon/Train/train/Bulbasaur/424.jpg\n",
      "c:/Users/nishant/pokemon/Train/Images/425.jpg\n",
      "c:/Users/nishant/pokemon/Train/train/Bulbasaur/425.jpg\n",
      "c:/Users/nishant/pokemon/Train/Images/426.jpg\n",
      "c:/Users/nishant/pokemon/Train/train/Bulbasaur/426.jpg\n",
      "c:/Users/nishant/pokemon/Train/Images/427.jpg\n",
      "c:/Users/nishant/pokemon/Train/train/Bulbasaur/427.jpg\n",
      "c:/Users/nishant/pokemon/Train/Images/428.jpg\n",
      "c:/Users/nishant/pokemon/Train/train/Bulbasaur/428.jpg\n",
      "c:/Users/nishant/pokemon/Train/Images/429.jpg\n",
      "c:/Users/nishant/pokemon/Train/train/Bulbasaur/429.jpg\n",
      "c:/Users/nishant/pokemon/Train/Images/430.jpg\n",
      "c:/Users/nishant/pokemon/Train/train/Bulbasaur/430.jpg\n",
      "c:/Users/nishant/pokemon/Train/Images/431.jpg\n",
      "c:/Users/nishant/pokemon/Train/train/Bulbasaur/431.jpg\n",
      "c:/Users/nishant/pokemon/Train/Images/432.jpg\n",
      "c:/Users/nishant/pokemon/Train/train/Bulbasaur/432.jpg\n",
      "c:/Users/nishant/pokemon/Train/Images/433.jpg\n",
      "c:/Users/nishant/pokemon/Train/train/Bulbasaur/433.jpg\n",
      "c:/Users/nishant/pokemon/Train/Images/434.jpg\n",
      "c:/Users/nishant/pokemon/Train/train/Bulbasaur/434.jpg\n",
      "c:/Users/nishant/pokemon/Train/Images/435.jpg\n",
      "c:/Users/nishant/pokemon/Train/train/Bulbasaur/435.jpg\n",
      "c:/Users/nishant/pokemon/Train/Images/436.jpg\n",
      "c:/Users/nishant/pokemon/Train/train/Bulbasaur/436.jpg\n",
      "c:/Users/nishant/pokemon/Train/Images/437.jpg\n",
      "c:/Users/nishant/pokemon/Train/train/Bulbasaur/437.jpg\n",
      "c:/Users/nishant/pokemon/Train/Images/438.jpg\n",
      "c:/Users/nishant/pokemon/Train/train/Bulbasaur/438.jpg\n",
      "c:/Users/nishant/pokemon/Train/Images/439.jpg\n",
      "c:/Users/nishant/pokemon/Train/train/Bulbasaur/439.jpg\n",
      "c:/Users/nishant/pokemon/Train/Images/440.jpg\n",
      "c:/Users/nishant/pokemon/Train/train/Bulbasaur/440.jpg\n",
      "c:/Users/nishant/pokemon/Train/Images/441.jpg\n",
      "c:/Users/nishant/pokemon/Train/train/Bulbasaur/441.jpg\n",
      "c:/Users/nishant/pokemon/Train/Images/442.jpg\n",
      "c:/Users/nishant/pokemon/Train/train/Bulbasaur/442.jpg\n",
      "c:/Users/nishant/pokemon/Train/Images/443.jpg\n",
      "c:/Users/nishant/pokemon/Train/train/Bulbasaur/443.jpg\n",
      "c:/Users/nishant/pokemon/Train/Images/444.jpg\n",
      "c:/Users/nishant/pokemon/Train/train/Bulbasaur/444.jpg\n",
      "c:/Users/nishant/pokemon/Train/Images/445.jpg\n",
      "c:/Users/nishant/pokemon/Train/train/Bulbasaur/445.jpg\n",
      "c:/Users/nishant/pokemon/Train/Images/446.jpg\n",
      "c:/Users/nishant/pokemon/Train/train/Bulbasaur/446.jpg\n",
      "c:/Users/nishant/pokemon/Train/Images/447.jpg\n",
      "c:/Users/nishant/pokemon/Train/train/Bulbasaur/447.jpg\n",
      "c:/Users/nishant/pokemon/Train/Images/448.jpg\n",
      "c:/Users/nishant/pokemon/Train/train/Bulbasaur/448.jpg\n",
      "c:/Users/nishant/pokemon/Train/Images/449.jpg\n",
      "c:/Users/nishant/pokemon/Train/train/Bulbasaur/449.jpg\n",
      "c:/Users/nishant/pokemon/Train/Images/450.jpg\n",
      "c:/Users/nishant/pokemon/Train/train/Bulbasaur/450.jpg\n",
      "c:/Users/nishant/pokemon/Train/Images/451.jpg\n",
      "c:/Users/nishant/pokemon/Train/train/Bulbasaur/451.jpg\n",
      "c:/Users/nishant/pokemon/Train/Images/452.jpg\n",
      "c:/Users/nishant/pokemon/Train/train/Bulbasaur/452.jpg\n",
      "c:/Users/nishant/pokemon/Train/Images/453.jpg\n",
      "c:/Users/nishant/pokemon/Train/train/Bulbasaur/453.jpg\n",
      "c:/Users/nishant/pokemon/Train/Images/454.jpg\n",
      "c:/Users/nishant/pokemon/Train/train/Bulbasaur/454.jpg\n",
      "c:/Users/nishant/pokemon/Train/Images/455.jpg\n",
      "c:/Users/nishant/pokemon/Train/train/Bulbasaur/455.jpg\n",
      "c:/Users/nishant/pokemon/Train/Images/456.jpg\n",
      "c:/Users/nishant/pokemon/Train/train/Bulbasaur/456.jpg\n",
      "c:/Users/nishant/pokemon/Train/Images/457.jpg\n",
      "c:/Users/nishant/pokemon/Train/train/Bulbasaur/457.jpg\n",
      "c:/Users/nishant/pokemon/Train/Images/458.jpg\n",
      "c:/Users/nishant/pokemon/Train/train/Bulbasaur/458.jpg\n",
      "c:/Users/nishant/pokemon/Train/Images/459.jpg\n",
      "c:/Users/nishant/pokemon/Train/train/Bulbasaur/459.jpg\n",
      "c:/Users/nishant/pokemon/Train/Images/460.jpg\n",
      "c:/Users/nishant/pokemon/Train/train/Bulbasaur/460.jpg\n",
      "c:/Users/nishant/pokemon/Train/Images/461.jpg\n",
      "c:/Users/nishant/pokemon/Train/train/Bulbasaur/461.jpg\n",
      "c:/Users/nishant/pokemon/Train/Images/462.jpg\n",
      "c:/Users/nishant/pokemon/Train/train/Bulbasaur/462.jpg\n",
      "c:/Users/nishant/pokemon/Train/Images/463.jpg\n",
      "c:/Users/nishant/pokemon/Train/train/Bulbasaur/463.jpg\n",
      "c:/Users/nishant/pokemon/Train/Images/464.jpg\n",
      "c:/Users/nishant/pokemon/Train/train/Bulbasaur/464.jpg\n",
      "c:/Users/nishant/pokemon/Train/Images/465.jpg\n",
      "c:/Users/nishant/pokemon/Train/train/Bulbasaur/465.jpg\n",
      "c:/Users/nishant/pokemon/Train/Images/466.jpg\n",
      "c:/Users/nishant/pokemon/Train/train/Bulbasaur/466.jpg\n",
      "c:/Users/nishant/pokemon/Train/Images/467.jpg\n",
      "c:/Users/nishant/pokemon/Train/train/Bulbasaur/467.jpg\n",
      "c:/Users/nishant/pokemon/Train/Images/468.jpg\n",
      "c:/Users/nishant/pokemon/Train/train/Bulbasaur/468.jpg\n",
      "c:/Users/nishant/pokemon/Train/Images/469.jpg\n",
      "c:/Users/nishant/pokemon/Train/train/Bulbasaur/469.jpg\n",
      "c:/Users/nishant/pokemon/Train/Images/470.jpg\n",
      "c:/Users/nishant/pokemon/Train/train/Bulbasaur/470.jpg\n",
      "c:/Users/nishant/pokemon/Train/Images/471.jpg\n",
      "c:/Users/nishant/pokemon/Train/train/Bulbasaur/471.jpg\n",
      "c:/Users/nishant/pokemon/Train/Images/472.jpg\n",
      "c:/Users/nishant/pokemon/Train/train/Bulbasaur/472.jpg\n",
      "c:/Users/nishant/pokemon/Train/Images/473.jpg\n",
      "c:/Users/nishant/pokemon/Train/train/Bulbasaur/473.jpg\n",
      "c:/Users/nishant/pokemon/Train/Images/474.jpg\n",
      "c:/Users/nishant/pokemon/Train/train/Bulbasaur/474.jpg\n",
      "c:/Users/nishant/pokemon/Train/Images/475.jpg\n",
      "c:/Users/nishant/pokemon/Train/train/Bulbasaur/475.jpg\n",
      "c:/Users/nishant/pokemon/Train/Images/476.jpg\n",
      "c:/Users/nishant/pokemon/Train/train/Bulbasaur/476.jpg\n",
      "c:/Users/nishant/pokemon/Train/Images/477.jpg\n",
      "c:/Users/nishant/pokemon/Train/train/Bulbasaur/477.jpg\n",
      "c:/Users/nishant/pokemon/Train/Images/478.jpg\n",
      "c:/Users/nishant/pokemon/Train/train/Bulbasaur/478.jpg\n",
      "c:/Users/nishant/pokemon/Train/Images/479.jpg\n",
      "c:/Users/nishant/pokemon/Train/train/Bulbasaur/479.jpg\n",
      "c:/Users/nishant/pokemon/Train/Images/480.jpg\n",
      "c:/Users/nishant/pokemon/Train/train/Bulbasaur/480.jpg\n",
      "c:/Users/nishant/pokemon/Train/Images/481.jpg\n",
      "c:/Users/nishant/pokemon/Train/train/Bulbasaur/481.jpg\n",
      "c:/Users/nishant/pokemon/Train/Images/482.jpg\n",
      "c:/Users/nishant/pokemon/Train/train/Bulbasaur/482.jpg\n",
      "c:/Users/nishant/pokemon/Train/Images/483.jpg\n",
      "c:/Users/nishant/pokemon/Train/train/Bulbasaur/483.jpg\n",
      "c:/Users/nishant/pokemon/Train/Images/484.jpg\n",
      "c:/Users/nishant/pokemon/Train/train/Bulbasaur/484.jpg\n",
      "c:/Users/nishant/pokemon/Train/Images/485.jpg\n",
      "c:/Users/nishant/pokemon/Train/train/Bulbasaur/485.jpg\n",
      "c:/Users/nishant/pokemon/Train/Images/486.jpg\n",
      "c:/Users/nishant/pokemon/Train/train/Bulbasaur/486.jpg\n",
      "c:/Users/nishant/pokemon/Train/Images/487.jpg\n",
      "c:/Users/nishant/pokemon/Train/train/Bulbasaur/487.jpg\n"
     ]
    },
    {
     "name": "stdout",
     "output_type": "stream",
     "text": [
      "c:/Users/nishant/pokemon/Train/Images/488.jpg\n",
      "c:/Users/nishant/pokemon/Train/train/Bulbasaur/488.jpg\n",
      "c:/Users/nishant/pokemon/Train/Images/489.jpg\n",
      "c:/Users/nishant/pokemon/Train/train/Bulbasaur/489.jpg\n",
      "c:/Users/nishant/pokemon/Train/Images/490.jpg\n",
      "c:/Users/nishant/pokemon/Train/train/Bulbasaur/490.jpg\n",
      "c:/Users/nishant/pokemon/Train/Images/491.jpg\n",
      "c:/Users/nishant/pokemon/Train/train/Bulbasaur/491.jpg\n",
      "c:/Users/nishant/pokemon/Train/Images/492.jpg\n",
      "c:/Users/nishant/pokemon/Train/train/Bulbasaur/492.jpg\n",
      "c:/Users/nishant/pokemon/Train/Images/493.jpg\n",
      "c:/Users/nishant/pokemon/Train/train/Bulbasaur/493.jpg\n",
      "c:/Users/nishant/pokemon/Train/Images/494.jpg\n",
      "c:/Users/nishant/pokemon/Train/train/Bulbasaur/494.jpg\n",
      "c:/Users/nishant/pokemon/Train/Images/495.jpg\n",
      "c:/Users/nishant/pokemon/Train/train/Bulbasaur/495.jpg\n",
      "c:/Users/nishant/pokemon/Train/Images/496.jpg\n",
      "c:/Users/nishant/pokemon/Train/train/Bulbasaur/496.jpg\n",
      "c:/Users/nishant/pokemon/Train/Images/497.jpg\n",
      "c:/Users/nishant/pokemon/Train/train/Bulbasaur/497.jpg\n",
      "c:/Users/nishant/pokemon/Train/Images/498.jpg\n",
      "c:/Users/nishant/pokemon/Train/train/Charmander/498.jpg\n",
      "c:/Users/nishant/pokemon/Train/Images/520.jpg\n",
      "c:/Users/nishant/pokemon/Train/train/Charmander/520.jpg\n",
      "c:/Users/nishant/pokemon/Train/Images/521.jpg\n",
      "c:/Users/nishant/pokemon/Train/train/Charmander/521.jpg\n",
      "c:/Users/nishant/pokemon/Train/Images/522.jpg\n",
      "c:/Users/nishant/pokemon/Train/train/Charmander/522.jpg\n",
      "c:/Users/nishant/pokemon/Train/Images/523.jpg\n",
      "c:/Users/nishant/pokemon/Train/train/Charmander/523.jpg\n",
      "c:/Users/nishant/pokemon/Train/Images/524.jpg\n",
      "c:/Users/nishant/pokemon/Train/train/Charmander/524.jpg\n",
      "c:/Users/nishant/pokemon/Train/Images/525.jpg\n",
      "c:/Users/nishant/pokemon/Train/train/Charmander/525.jpg\n",
      "c:/Users/nishant/pokemon/Train/Images/526.jpg\n",
      "c:/Users/nishant/pokemon/Train/train/Charmander/526.jpg\n",
      "c:/Users/nishant/pokemon/Train/Images/527.jpg\n",
      "c:/Users/nishant/pokemon/Train/train/Charmander/527.jpg\n",
      "c:/Users/nishant/pokemon/Train/Images/528.jpg\n",
      "c:/Users/nishant/pokemon/Train/train/Charmander/528.jpg\n",
      "c:/Users/nishant/pokemon/Train/Images/529.jpg\n",
      "c:/Users/nishant/pokemon/Train/train/Charmander/529.jpg\n",
      "c:/Users/nishant/pokemon/Train/Images/530.jpg\n",
      "c:/Users/nishant/pokemon/Train/train/Charmander/530.jpg\n",
      "c:/Users/nishant/pokemon/Train/Images/531.jpg\n",
      "c:/Users/nishant/pokemon/Train/train/Charmander/531.jpg\n",
      "c:/Users/nishant/pokemon/Train/Images/532.jpg\n",
      "c:/Users/nishant/pokemon/Train/train/Charmander/532.jpg\n",
      "c:/Users/nishant/pokemon/Train/Images/533.jpg\n",
      "c:/Users/nishant/pokemon/Train/train/Charmander/533.jpg\n",
      "c:/Users/nishant/pokemon/Train/Images/534.jpg\n",
      "c:/Users/nishant/pokemon/Train/train/Charmander/534.jpg\n",
      "c:/Users/nishant/pokemon/Train/Images/535.jpg\n",
      "c:/Users/nishant/pokemon/Train/train/Charmander/535.jpg\n",
      "c:/Users/nishant/pokemon/Train/Images/536.jpg\n",
      "c:/Users/nishant/pokemon/Train/train/Charmander/536.jpg\n",
      "c:/Users/nishant/pokemon/Train/Images/537.jpg\n",
      "c:/Users/nishant/pokemon/Train/train/Charmander/537.jpg\n",
      "c:/Users/nishant/pokemon/Train/Images/538.jpg\n",
      "c:/Users/nishant/pokemon/Train/train/Charmander/538.jpg\n",
      "c:/Users/nishant/pokemon/Train/Images/539.jpg\n",
      "c:/Users/nishant/pokemon/Train/train/Charmander/539.jpg\n",
      "c:/Users/nishant/pokemon/Train/Images/540.jpg\n",
      "c:/Users/nishant/pokemon/Train/train/Charmander/540.jpg\n",
      "c:/Users/nishant/pokemon/Train/Images/541.jpg\n",
      "c:/Users/nishant/pokemon/Train/train/Charmander/541.jpg\n",
      "c:/Users/nishant/pokemon/Train/Images/542.jpg\n",
      "c:/Users/nishant/pokemon/Train/train/Charmander/542.jpg\n",
      "c:/Users/nishant/pokemon/Train/Images/543.jpg\n",
      "c:/Users/nishant/pokemon/Train/train/Charmander/543.jpg\n",
      "c:/Users/nishant/pokemon/Train/Images/544.jpg\n",
      "c:/Users/nishant/pokemon/Train/train/Charmander/544.jpg\n",
      "c:/Users/nishant/pokemon/Train/Images/545.jpg\n",
      "c:/Users/nishant/pokemon/Train/train/Charmander/545.jpg\n",
      "c:/Users/nishant/pokemon/Train/Images/546.jpg\n",
      "c:/Users/nishant/pokemon/Train/train/Charmander/546.jpg\n",
      "c:/Users/nishant/pokemon/Train/Images/547.jpg\n",
      "c:/Users/nishant/pokemon/Train/train/Charmander/547.jpg\n",
      "c:/Users/nishant/pokemon/Train/Images/548.jpg\n",
      "c:/Users/nishant/pokemon/Train/train/Charmander/548.jpg\n",
      "c:/Users/nishant/pokemon/Train/Images/549.jpg\n",
      "c:/Users/nishant/pokemon/Train/train/Charmander/549.jpg\n",
      "c:/Users/nishant/pokemon/Train/Images/550.jpg\n",
      "c:/Users/nishant/pokemon/Train/train/Charmander/550.jpg\n",
      "c:/Users/nishant/pokemon/Train/Images/551.jpg\n",
      "c:/Users/nishant/pokemon/Train/train/Charmander/551.jpg\n",
      "c:/Users/nishant/pokemon/Train/Images/552.jpg\n",
      "c:/Users/nishant/pokemon/Train/train/Charmander/552.jpg\n",
      "c:/Users/nishant/pokemon/Train/Images/553.jpg\n",
      "c:/Users/nishant/pokemon/Train/train/Charmander/553.jpg\n",
      "c:/Users/nishant/pokemon/Train/Images/554.jpg\n",
      "c:/Users/nishant/pokemon/Train/train/Charmander/554.jpg\n",
      "c:/Users/nishant/pokemon/Train/Images/555.jpg\n",
      "c:/Users/nishant/pokemon/Train/train/Charmander/555.jpg\n",
      "c:/Users/nishant/pokemon/Train/Images/556.jpg\n",
      "c:/Users/nishant/pokemon/Train/train/Charmander/556.jpg\n",
      "c:/Users/nishant/pokemon/Train/Images/557.jpg\n",
      "c:/Users/nishant/pokemon/Train/train/Charmander/557.jpg\n",
      "c:/Users/nishant/pokemon/Train/Images/558.jpg\n",
      "c:/Users/nishant/pokemon/Train/train/Charmander/558.jpg\n",
      "c:/Users/nishant/pokemon/Train/Images/559.jpg\n",
      "c:/Users/nishant/pokemon/Train/train/Charmander/559.jpg\n",
      "c:/Users/nishant/pokemon/Train/Images/560.jpg\n",
      "c:/Users/nishant/pokemon/Train/train/Charmander/560.jpg\n",
      "c:/Users/nishant/pokemon/Train/Images/561.jpg\n",
      "c:/Users/nishant/pokemon/Train/train/Charmander/561.jpg\n",
      "c:/Users/nishant/pokemon/Train/Images/562.jpg\n",
      "c:/Users/nishant/pokemon/Train/train/Charmander/562.jpg\n",
      "c:/Users/nishant/pokemon/Train/Images/563.jpg\n",
      "c:/Users/nishant/pokemon/Train/train/Charmander/563.jpg\n",
      "c:/Users/nishant/pokemon/Train/Images/564.jpg\n",
      "c:/Users/nishant/pokemon/Train/train/Charmander/564.jpg\n",
      "c:/Users/nishant/pokemon/Train/Images/565.jpg\n",
      "c:/Users/nishant/pokemon/Train/train/Charmander/565.jpg\n",
      "c:/Users/nishant/pokemon/Train/Images/566.jpg\n",
      "c:/Users/nishant/pokemon/Train/train/Charmander/566.jpg\n",
      "c:/Users/nishant/pokemon/Train/Images/567.jpg\n",
      "c:/Users/nishant/pokemon/Train/train/Charmander/567.jpg\n",
      "c:/Users/nishant/pokemon/Train/Images/568.jpg\n",
      "c:/Users/nishant/pokemon/Train/train/Charmander/568.jpg\n",
      "c:/Users/nishant/pokemon/Train/Images/569.jpg\n",
      "c:/Users/nishant/pokemon/Train/train/Charmander/569.jpg\n",
      "c:/Users/nishant/pokemon/Train/Images/570.jpg\n",
      "c:/Users/nishant/pokemon/Train/train/Charmander/570.jpg\n",
      "c:/Users/nishant/pokemon/Train/Images/571.jpg\n",
      "c:/Users/nishant/pokemon/Train/train/Charmander/571.jpg\n",
      "c:/Users/nishant/pokemon/Train/Images/572.jpg\n",
      "c:/Users/nishant/pokemon/Train/train/Charmander/572.jpg\n",
      "c:/Users/nishant/pokemon/Train/Images/573.jpg\n",
      "c:/Users/nishant/pokemon/Train/train/Charmander/573.jpg\n",
      "c:/Users/nishant/pokemon/Train/Images/574.jpg\n",
      "c:/Users/nishant/pokemon/Train/train/Charmander/574.jpg\n",
      "c:/Users/nishant/pokemon/Train/Images/575.jpg\n",
      "c:/Users/nishant/pokemon/Train/train/Charmander/575.jpg\n",
      "c:/Users/nishant/pokemon/Train/Images/576.jpg\n",
      "c:/Users/nishant/pokemon/Train/train/Charmander/576.jpg\n",
      "c:/Users/nishant/pokemon/Train/Images/577.jpg\n",
      "c:/Users/nishant/pokemon/Train/train/Charmander/577.jpg\n",
      "c:/Users/nishant/pokemon/Train/Images/578.jpg\n",
      "c:/Users/nishant/pokemon/Train/train/Charmander/578.jpg\n",
      "c:/Users/nishant/pokemon/Train/Images/579.jpg\n",
      "c:/Users/nishant/pokemon/Train/train/Charmander/579.jpg\n",
      "c:/Users/nishant/pokemon/Train/Images/580.jpg\n",
      "c:/Users/nishant/pokemon/Train/train/Charmander/580.jpg\n",
      "c:/Users/nishant/pokemon/Train/Images/581.jpg\n",
      "c:/Users/nishant/pokemon/Train/train/Charmander/581.jpg\n",
      "c:/Users/nishant/pokemon/Train/Images/582.jpg\n",
      "c:/Users/nishant/pokemon/Train/train/Charmander/582.jpg\n",
      "c:/Users/nishant/pokemon/Train/Images/583.jpg\n",
      "c:/Users/nishant/pokemon/Train/train/Charmander/583.jpg\n",
      "c:/Users/nishant/pokemon/Train/Images/584.jpg\n",
      "c:/Users/nishant/pokemon/Train/train/Charmander/584.jpg\n",
      "c:/Users/nishant/pokemon/Train/Images/585.jpg\n",
      "c:/Users/nishant/pokemon/Train/train/Charmander/585.jpg\n",
      "c:/Users/nishant/pokemon/Train/Images/586.jpg\n",
      "c:/Users/nishant/pokemon/Train/train/Charmander/586.jpg\n",
      "c:/Users/nishant/pokemon/Train/Images/587.jpg\n",
      "c:/Users/nishant/pokemon/Train/train/Charmander/587.jpg\n",
      "c:/Users/nishant/pokemon/Train/Images/588.jpg\n",
      "c:/Users/nishant/pokemon/Train/train/Charmander/588.jpg\n",
      "c:/Users/nishant/pokemon/Train/Images/589.jpg\n",
      "c:/Users/nishant/pokemon/Train/train/Charmander/589.jpg\n",
      "c:/Users/nishant/pokemon/Train/Images/590.jpg\n",
      "c:/Users/nishant/pokemon/Train/train/Charmander/590.jpg\n",
      "c:/Users/nishant/pokemon/Train/Images/591.jpg\n",
      "c:/Users/nishant/pokemon/Train/train/Charmander/591.jpg\n",
      "c:/Users/nishant/pokemon/Train/Images/592.jpg\n",
      "c:/Users/nishant/pokemon/Train/train/Charmander/592.jpg\n",
      "c:/Users/nishant/pokemon/Train/Images/593.jpg\n",
      "c:/Users/nishant/pokemon/Train/train/Charmander/593.jpg\n",
      "c:/Users/nishant/pokemon/Train/Images/594.jpg\n",
      "c:/Users/nishant/pokemon/Train/train/Charmander/594.jpg\n",
      "c:/Users/nishant/pokemon/Train/Images/595.jpg\n",
      "c:/Users/nishant/pokemon/Train/train/Charmander/595.jpg\n",
      "c:/Users/nishant/pokemon/Train/Images/596.jpg\n",
      "c:/Users/nishant/pokemon/Train/train/Charmander/596.jpg\n",
      "c:/Users/nishant/pokemon/Train/Images/597.jpg\n",
      "c:/Users/nishant/pokemon/Train/train/Charmander/597.jpg\n",
      "c:/Users/nishant/pokemon/Train/Images/598.jpg\n",
      "c:/Users/nishant/pokemon/Train/train/Charmander/598.jpg\n",
      "c:/Users/nishant/pokemon/Train/Images/599.jpg\n",
      "c:/Users/nishant/pokemon/Train/train/Charmander/599.jpg\n",
      "c:/Users/nishant/pokemon/Train/Images/600.jpg\n",
      "c:/Users/nishant/pokemon/Train/train/Charmander/600.jpg\n",
      "c:/Users/nishant/pokemon/Train/Images/601.jpg\n",
      "c:/Users/nishant/pokemon/Train/train/Charmander/601.jpg\n",
      "c:/Users/nishant/pokemon/Train/Images/602.jpg\n",
      "c:/Users/nishant/pokemon/Train/train/Charmander/602.jpg\n",
      "c:/Users/nishant/pokemon/Train/Images/603.jpg\n",
      "c:/Users/nishant/pokemon/Train/train/Charmander/603.jpg\n",
      "c:/Users/nishant/pokemon/Train/Images/604.jpg\n",
      "c:/Users/nishant/pokemon/Train/train/Charmander/604.jpg\n",
      "c:/Users/nishant/pokemon/Train/Images/605.jpg\n",
      "c:/Users/nishant/pokemon/Train/train/Charmander/605.jpg\n",
      "c:/Users/nishant/pokemon/Train/Images/606.jpg\n",
      "c:/Users/nishant/pokemon/Train/train/Charmander/606.jpg\n",
      "c:/Users/nishant/pokemon/Train/Images/607.jpg\n",
      "c:/Users/nishant/pokemon/Train/train/Charmander/607.jpg\n",
      "c:/Users/nishant/pokemon/Train/Images/608.jpg\n",
      "c:/Users/nishant/pokemon/Train/train/Charmander/608.jpg\n",
      "c:/Users/nishant/pokemon/Train/Images/609.jpg\n",
      "c:/Users/nishant/pokemon/Train/train/Charmander/609.jpg\n",
      "c:/Users/nishant/pokemon/Train/Images/610.jpg\n",
      "c:/Users/nishant/pokemon/Train/train/Charmander/610.jpg\n",
      "c:/Users/nishant/pokemon/Train/Images/611.jpg\n",
      "c:/Users/nishant/pokemon/Train/train/Charmander/611.jpg\n",
      "c:/Users/nishant/pokemon/Train/Images/612.jpg\n",
      "c:/Users/nishant/pokemon/Train/train/Charmander/612.jpg\n",
      "c:/Users/nishant/pokemon/Train/Images/613.jpg\n",
      "c:/Users/nishant/pokemon/Train/train/Charmander/613.jpg\n",
      "c:/Users/nishant/pokemon/Train/Images/614.jpg\n",
      "c:/Users/nishant/pokemon/Train/train/Charmander/614.jpg\n",
      "c:/Users/nishant/pokemon/Train/Images/615.jpg\n",
      "c:/Users/nishant/pokemon/Train/train/Charmander/615.jpg\n",
      "c:/Users/nishant/pokemon/Train/Images/616.jpg\n",
      "c:/Users/nishant/pokemon/Train/train/Charmander/616.jpg\n",
      "c:/Users/nishant/pokemon/Train/Images/617.jpg\n",
      "c:/Users/nishant/pokemon/Train/train/Charmander/617.jpg\n",
      "c:/Users/nishant/pokemon/Train/Images/618.jpg\n",
      "c:/Users/nishant/pokemon/Train/train/Charmander/618.jpg\n",
      "c:/Users/nishant/pokemon/Train/Images/619.jpg\n",
      "c:/Users/nishant/pokemon/Train/train/Charmander/619.jpg\n"
     ]
    },
    {
     "name": "stdout",
     "output_type": "stream",
     "text": [
      "c:/Users/nishant/pokemon/Train/Images/620.jpg\n",
      "c:/Users/nishant/pokemon/Train/train/Charmander/620.jpg\n"
     ]
    }
   ],
   "source": [
    "for i in range(len(df)):\n",
    "    \n",
    "    src = 'c:/Users/nishant/pokemon/Train/Images/'+df.iloc[i,0]\n",
    "    dest = 'c:/Users/nishant/pokemon/Train/train/'+df.iloc[i,1] +'/'+ df.iloc[i,0] \n",
    "    shutil.move(src,dest)\n",
    "    print(src)\n",
    "    print(dest)\n",
    "    "
   ]
  },
  {
   "cell_type": "code",
   "execution_count": 15,
   "metadata": {},
   "outputs": [
    {
     "name": "stdout",
     "output_type": "stream",
     "text": [
      "102\n",
      "11\n",
      "c:/Users/nishant/pokemon/Train/train/Charmander\\610.jpg\n",
      "c:/Users/nishant/pokemon/Train/validation/Charmander\\610.jpg\n",
      "c:/Users/nishant/pokemon/Train/train/Charmander\\611.jpg\n",
      "c:/Users/nishant/pokemon/Train/validation/Charmander\\611.jpg\n",
      "c:/Users/nishant/pokemon/Train/train/Charmander\\612.jpg\n",
      "c:/Users/nishant/pokemon/Train/validation/Charmander\\612.jpg\n",
      "c:/Users/nishant/pokemon/Train/train/Charmander\\613.jpg\n",
      "c:/Users/nishant/pokemon/Train/validation/Charmander\\613.jpg\n",
      "c:/Users/nishant/pokemon/Train/train/Charmander\\614.jpg\n",
      "c:/Users/nishant/pokemon/Train/validation/Charmander\\614.jpg\n",
      "c:/Users/nishant/pokemon/Train/train/Charmander\\615.jpg\n",
      "c:/Users/nishant/pokemon/Train/validation/Charmander\\615.jpg\n",
      "c:/Users/nishant/pokemon/Train/train/Charmander\\616.jpg\n",
      "c:/Users/nishant/pokemon/Train/validation/Charmander\\616.jpg\n",
      "c:/Users/nishant/pokemon/Train/train/Charmander\\617.jpg\n",
      "c:/Users/nishant/pokemon/Train/validation/Charmander\\617.jpg\n",
      "c:/Users/nishant/pokemon/Train/train/Charmander\\618.jpg\n",
      "c:/Users/nishant/pokemon/Train/validation/Charmander\\618.jpg\n",
      "c:/Users/nishant/pokemon/Train/train/Charmander\\619.jpg\n",
      "c:/Users/nishant/pokemon/Train/validation/Charmander\\619.jpg\n",
      "c:/Users/nishant/pokemon/Train/train/Charmander\\620.jpg\n",
      "c:/Users/nishant/pokemon/Train/validation/Charmander\\620.jpg\n",
      "101\n",
      "11\n",
      "c:/Users/nishant/pokemon/Train/train/Pikachu\\386.jpg\n",
      "c:/Users/nishant/pokemon/Train/validation/Pikachu\\386.jpg\n",
      "c:/Users/nishant/pokemon/Train/train/Pikachu\\387.jpg\n",
      "c:/Users/nishant/pokemon/Train/validation/Pikachu\\387.jpg\n",
      "c:/Users/nishant/pokemon/Train/train/Pikachu\\388.jpg\n",
      "c:/Users/nishant/pokemon/Train/validation/Pikachu\\388.jpg\n",
      "c:/Users/nishant/pokemon/Train/train/Pikachu\\389.jpg\n",
      "c:/Users/nishant/pokemon/Train/validation/Pikachu\\389.jpg\n",
      "c:/Users/nishant/pokemon/Train/train/Pikachu\\390.jpg\n",
      "c:/Users/nishant/pokemon/Train/validation/Pikachu\\390.jpg\n",
      "c:/Users/nishant/pokemon/Train/train/Pikachu\\391.jpg\n",
      "c:/Users/nishant/pokemon/Train/validation/Pikachu\\391.jpg\n",
      "c:/Users/nishant/pokemon/Train/train/Pikachu\\392.jpg\n",
      "c:/Users/nishant/pokemon/Train/validation/Pikachu\\392.jpg\n",
      "c:/Users/nishant/pokemon/Train/train/Pikachu\\393.jpg\n",
      "c:/Users/nishant/pokemon/Train/validation/Pikachu\\393.jpg\n",
      "c:/Users/nishant/pokemon/Train/train/Pikachu\\394.jpg\n",
      "c:/Users/nishant/pokemon/Train/validation/Pikachu\\394.jpg\n",
      "c:/Users/nishant/pokemon/Train/train/Pikachu\\395.jpg\n",
      "c:/Users/nishant/pokemon/Train/validation/Pikachu\\395.jpg\n",
      "c:/Users/nishant/pokemon/Train/train/Pikachu\\396.jpg\n",
      "c:/Users/nishant/pokemon/Train/validation/Pikachu\\396.jpg\n",
      "101\n",
      "11\n",
      "c:/Users/nishant/pokemon/Train/train/Bulbasaur\\487.jpg\n",
      "c:/Users/nishant/pokemon/Train/validation/Bulbasaur\\487.jpg\n",
      "c:/Users/nishant/pokemon/Train/train/Bulbasaur\\488.jpg\n",
      "c:/Users/nishant/pokemon/Train/validation/Bulbasaur\\488.jpg\n",
      "c:/Users/nishant/pokemon/Train/train/Bulbasaur\\489.jpg\n",
      "c:/Users/nishant/pokemon/Train/validation/Bulbasaur\\489.jpg\n",
      "c:/Users/nishant/pokemon/Train/train/Bulbasaur\\490.jpg\n",
      "c:/Users/nishant/pokemon/Train/validation/Bulbasaur\\490.jpg\n",
      "c:/Users/nishant/pokemon/Train/train/Bulbasaur\\491.jpg\n",
      "c:/Users/nishant/pokemon/Train/validation/Bulbasaur\\491.jpg\n",
      "c:/Users/nishant/pokemon/Train/train/Bulbasaur\\492.jpg\n",
      "c:/Users/nishant/pokemon/Train/validation/Bulbasaur\\492.jpg\n",
      "c:/Users/nishant/pokemon/Train/train/Bulbasaur\\493.jpg\n",
      "c:/Users/nishant/pokemon/Train/validation/Bulbasaur\\493.jpg\n",
      "c:/Users/nishant/pokemon/Train/train/Bulbasaur\\494.jpg\n",
      "c:/Users/nishant/pokemon/Train/validation/Bulbasaur\\494.jpg\n",
      "c:/Users/nishant/pokemon/Train/train/Bulbasaur\\495.jpg\n",
      "c:/Users/nishant/pokemon/Train/validation/Bulbasaur\\495.jpg\n",
      "c:/Users/nishant/pokemon/Train/train/Bulbasaur\\496.jpg\n",
      "c:/Users/nishant/pokemon/Train/validation/Bulbasaur\\496.jpg\n",
      "c:/Users/nishant/pokemon/Train/train/Bulbasaur\\497.jpg\n",
      "c:/Users/nishant/pokemon/Train/validation/Bulbasaur\\497.jpg\n"
     ]
    }
   ],
   "source": [
    "split = 0.9\n",
    "for c in classes:\n",
    "    path = 'c:/Users/nishant/pokemon/Train/train/'+c\n",
    "    file = os.listdir(path)\n",
    "    print(len(file))\n",
    "    file_to_move = file[int(split*len(file)):]\n",
    "    print(len(file_to_move))\n",
    "    for img_f  in file_to_move:\n",
    "        dest = os.path.join('c:/Users/nishant/pokemon/Train/validation/'+c,img_f)\n",
    "        src = os.path.join(path,img_f)\n",
    "        shutil.move(src,dest)\n",
    "        print(src)\n",
    "        print(dest)\n",
    "        \n",
    "    \n",
    "    "
   ]
  },
  {
   "cell_type": "code",
   "execution_count": 16,
   "metadata": {},
   "outputs": [],
   "source": [
    "train_datagen = image.ImageDataGenerator(\n",
    "    rescale=1./255,\n",
    "    featurewise_center=True,\n",
    "    featurewise_std_normalization=True,\n",
    "    rotation_range=20,\n",
    "    width_shift_range=0.2,\n",
    "    height_shift_range=0.2,\n",
    "    horizontal_flip=True\n",
    ")"
   ]
  },
  {
   "cell_type": "code",
   "execution_count": 17,
   "metadata": {},
   "outputs": [],
   "source": [
    "val_datagen = image.ImageDataGenerator(\n",
    "           rescale = 1./255\n",
    ")"
   ]
  },
  {
   "cell_type": "code",
   "execution_count": 39,
   "metadata": {},
   "outputs": [
    {
     "name": "stdout",
     "output_type": "stream",
     "text": [
      "Found 271 images belonging to 3 classes.\n"
     ]
    }
   ],
   "source": [
    "train_generator = train_datagen.flow_from_directory(\n",
    "        'c:/Users/nishant/pokemon/Train/train',\n",
    "        target_size=(224, 224),\n",
    "        batch_size=32,\n",
    "        class_mode ='categorical',\n",
    "        shuffle=True\n",
    ")"
   ]
  },
  {
   "cell_type": "code",
   "execution_count": 19,
   "metadata": {},
   "outputs": [
    {
     "data": {
      "text/plain": [
       "{'Bulbasaur': 0, 'Charmander': 1, 'Pikachu': 2}"
      ]
     },
     "execution_count": 19,
     "metadata": {},
     "output_type": "execute_result"
    }
   ],
   "source": [
    "train_generator.class_indices"
   ]
  },
  {
   "cell_type": "code",
   "execution_count": 38,
   "metadata": {},
   "outputs": [
    {
     "name": "stdout",
     "output_type": "stream",
     "text": [
      "Found 33 images belonging to 3 classes.\n"
     ]
    }
   ],
   "source": [
    "validation_generator = val_datagen.flow_from_directory(\n",
    "        'c:/Users/nishant/pokemon/Train/validation',\n",
    "        target_size=(224,224),\n",
    "        batch_size=10,\n",
    "        class_mode ='categorical',\n",
    "        shuffle=True\n",
    "        )"
   ]
  },
  {
   "cell_type": "code",
   "execution_count": 31,
   "metadata": {},
   "outputs": [],
   "source": [
    "model = MobileNetV2(include_top=False,weights=\"imagenet\",input_shape=(224,224,3))  "
   ]
  },
  {
   "cell_type": "code",
   "execution_count": 32,
   "metadata": {},
   "outputs": [],
   "source": [
    "av1 = GlobalAveragePooling2D()(model.output)\n",
    "fc1 = Dense(256,activation='relu')(av1)\n",
    "d1 = Dropout(0.5)(fc1)\n",
    "fc2 = Dense(3,activation='softmax')(d1)\n",
    "\n",
    "model_new = Model(inputs=model.input,outputs=fc2)"
   ]
  },
  {
   "cell_type": "code",
   "execution_count": 33,
   "metadata": {},
   "outputs": [],
   "source": [
    "for i in range(150):\n",
    "    model_new.layers[i].trainable=False "
   ]
  },
  {
   "cell_type": "code",
   "execution_count": 34,
   "metadata": {},
   "outputs": [],
   "source": [
    "model_new.compile(loss='categorical_crossentropy',optimizer='adam',metrics=['accuracy'])"
   ]
  },
  {
   "cell_type": "code",
   "execution_count": 35,
   "metadata": {},
   "outputs": [
    {
     "name": "stdout",
     "output_type": "stream",
     "text": [
      "Model: \"model_1\"\n",
      "__________________________________________________________________________________________________\n",
      "Layer (type)                    Output Shape         Param #     Connected to                     \n",
      "==================================================================================================\n",
      "input_2 (InputLayer)            [(None, 224, 224, 3) 0                                            \n",
      "__________________________________________________________________________________________________\n",
      "Conv1 (Conv2D)                  (None, 112, 112, 32) 864         input_2[0][0]                    \n",
      "__________________________________________________________________________________________________\n",
      "bn_Conv1 (BatchNormalization)   (None, 112, 112, 32) 128         Conv1[0][0]                      \n",
      "__________________________________________________________________________________________________\n",
      "Conv1_relu (ReLU)               (None, 112, 112, 32) 0           bn_Conv1[0][0]                   \n",
      "__________________________________________________________________________________________________\n",
      "expanded_conv_depthwise (Depthw (None, 112, 112, 32) 288         Conv1_relu[0][0]                 \n",
      "__________________________________________________________________________________________________\n",
      "expanded_conv_depthwise_BN (Bat (None, 112, 112, 32) 128         expanded_conv_depthwise[0][0]    \n",
      "__________________________________________________________________________________________________\n",
      "expanded_conv_depthwise_relu (R (None, 112, 112, 32) 0           expanded_conv_depthwise_BN[0][0] \n",
      "__________________________________________________________________________________________________\n",
      "expanded_conv_project (Conv2D)  (None, 112, 112, 16) 512         expanded_conv_depthwise_relu[0][0\n",
      "__________________________________________________________________________________________________\n",
      "expanded_conv_project_BN (Batch (None, 112, 112, 16) 64          expanded_conv_project[0][0]      \n",
      "__________________________________________________________________________________________________\n",
      "block_1_expand (Conv2D)         (None, 112, 112, 96) 1536        expanded_conv_project_BN[0][0]   \n",
      "__________________________________________________________________________________________________\n",
      "block_1_expand_BN (BatchNormali (None, 112, 112, 96) 384         block_1_expand[0][0]             \n",
      "__________________________________________________________________________________________________\n",
      "block_1_expand_relu (ReLU)      (None, 112, 112, 96) 0           block_1_expand_BN[0][0]          \n",
      "__________________________________________________________________________________________________\n",
      "block_1_pad (ZeroPadding2D)     (None, 113, 113, 96) 0           block_1_expand_relu[0][0]        \n",
      "__________________________________________________________________________________________________\n",
      "block_1_depthwise (DepthwiseCon (None, 56, 56, 96)   864         block_1_pad[0][0]                \n",
      "__________________________________________________________________________________________________\n",
      "block_1_depthwise_BN (BatchNorm (None, 56, 56, 96)   384         block_1_depthwise[0][0]          \n",
      "__________________________________________________________________________________________________\n",
      "block_1_depthwise_relu (ReLU)   (None, 56, 56, 96)   0           block_1_depthwise_BN[0][0]       \n",
      "__________________________________________________________________________________________________\n",
      "block_1_project (Conv2D)        (None, 56, 56, 24)   2304        block_1_depthwise_relu[0][0]     \n",
      "__________________________________________________________________________________________________\n",
      "block_1_project_BN (BatchNormal (None, 56, 56, 24)   96          block_1_project[0][0]            \n",
      "__________________________________________________________________________________________________\n",
      "block_2_expand (Conv2D)         (None, 56, 56, 144)  3456        block_1_project_BN[0][0]         \n",
      "__________________________________________________________________________________________________\n",
      "block_2_expand_BN (BatchNormali (None, 56, 56, 144)  576         block_2_expand[0][0]             \n",
      "__________________________________________________________________________________________________\n",
      "block_2_expand_relu (ReLU)      (None, 56, 56, 144)  0           block_2_expand_BN[0][0]          \n",
      "__________________________________________________________________________________________________\n",
      "block_2_depthwise (DepthwiseCon (None, 56, 56, 144)  1296        block_2_expand_relu[0][0]        \n",
      "__________________________________________________________________________________________________\n",
      "block_2_depthwise_BN (BatchNorm (None, 56, 56, 144)  576         block_2_depthwise[0][0]          \n",
      "__________________________________________________________________________________________________\n",
      "block_2_depthwise_relu (ReLU)   (None, 56, 56, 144)  0           block_2_depthwise_BN[0][0]       \n",
      "__________________________________________________________________________________________________\n",
      "block_2_project (Conv2D)        (None, 56, 56, 24)   3456        block_2_depthwise_relu[0][0]     \n",
      "__________________________________________________________________________________________________\n",
      "block_2_project_BN (BatchNormal (None, 56, 56, 24)   96          block_2_project[0][0]            \n",
      "__________________________________________________________________________________________________\n",
      "block_2_add (Add)               (None, 56, 56, 24)   0           block_1_project_BN[0][0]         \n",
      "                                                                 block_2_project_BN[0][0]         \n",
      "__________________________________________________________________________________________________\n",
      "block_3_expand (Conv2D)         (None, 56, 56, 144)  3456        block_2_add[0][0]                \n",
      "__________________________________________________________________________________________________\n",
      "block_3_expand_BN (BatchNormali (None, 56, 56, 144)  576         block_3_expand[0][0]             \n",
      "__________________________________________________________________________________________________\n",
      "block_3_expand_relu (ReLU)      (None, 56, 56, 144)  0           block_3_expand_BN[0][0]          \n",
      "__________________________________________________________________________________________________\n",
      "block_3_pad (ZeroPadding2D)     (None, 57, 57, 144)  0           block_3_expand_relu[0][0]        \n",
      "__________________________________________________________________________________________________\n",
      "block_3_depthwise (DepthwiseCon (None, 28, 28, 144)  1296        block_3_pad[0][0]                \n",
      "__________________________________________________________________________________________________\n",
      "block_3_depthwise_BN (BatchNorm (None, 28, 28, 144)  576         block_3_depthwise[0][0]          \n",
      "__________________________________________________________________________________________________\n",
      "block_3_depthwise_relu (ReLU)   (None, 28, 28, 144)  0           block_3_depthwise_BN[0][0]       \n",
      "__________________________________________________________________________________________________\n",
      "block_3_project (Conv2D)        (None, 28, 28, 32)   4608        block_3_depthwise_relu[0][0]     \n",
      "__________________________________________________________________________________________________\n",
      "block_3_project_BN (BatchNormal (None, 28, 28, 32)   128         block_3_project[0][0]            \n",
      "__________________________________________________________________________________________________\n",
      "block_4_expand (Conv2D)         (None, 28, 28, 192)  6144        block_3_project_BN[0][0]         \n",
      "__________________________________________________________________________________________________\n",
      "block_4_expand_BN (BatchNormali (None, 28, 28, 192)  768         block_4_expand[0][0]             \n",
      "__________________________________________________________________________________________________\n",
      "block_4_expand_relu (ReLU)      (None, 28, 28, 192)  0           block_4_expand_BN[0][0]          \n",
      "__________________________________________________________________________________________________\n",
      "block_4_depthwise (DepthwiseCon (None, 28, 28, 192)  1728        block_4_expand_relu[0][0]        \n",
      "__________________________________________________________________________________________________\n",
      "block_4_depthwise_BN (BatchNorm (None, 28, 28, 192)  768         block_4_depthwise[0][0]          \n",
      "__________________________________________________________________________________________________\n",
      "block_4_depthwise_relu (ReLU)   (None, 28, 28, 192)  0           block_4_depthwise_BN[0][0]       \n",
      "__________________________________________________________________________________________________\n",
      "block_4_project (Conv2D)        (None, 28, 28, 32)   6144        block_4_depthwise_relu[0][0]     \n",
      "__________________________________________________________________________________________________\n",
      "block_4_project_BN (BatchNormal (None, 28, 28, 32)   128         block_4_project[0][0]            \n",
      "__________________________________________________________________________________________________\n",
      "block_4_add (Add)               (None, 28, 28, 32)   0           block_3_project_BN[0][0]         \n",
      "                                                                 block_4_project_BN[0][0]         \n",
      "__________________________________________________________________________________________________\n",
      "block_5_expand (Conv2D)         (None, 28, 28, 192)  6144        block_4_add[0][0]                \n",
      "__________________________________________________________________________________________________\n",
      "block_5_expand_BN (BatchNormali (None, 28, 28, 192)  768         block_5_expand[0][0]             \n",
      "__________________________________________________________________________________________________\n",
      "block_5_expand_relu (ReLU)      (None, 28, 28, 192)  0           block_5_expand_BN[0][0]          \n",
      "__________________________________________________________________________________________________\n",
      "block_5_depthwise (DepthwiseCon (None, 28, 28, 192)  1728        block_5_expand_relu[0][0]        \n",
      "__________________________________________________________________________________________________\n",
      "block_5_depthwise_BN (BatchNorm (None, 28, 28, 192)  768         block_5_depthwise[0][0]          \n",
      "__________________________________________________________________________________________________\n",
      "block_5_depthwise_relu (ReLU)   (None, 28, 28, 192)  0           block_5_depthwise_BN[0][0]       \n",
      "__________________________________________________________________________________________________\n",
      "block_5_project (Conv2D)        (None, 28, 28, 32)   6144        block_5_depthwise_relu[0][0]     \n",
      "__________________________________________________________________________________________________\n",
      "block_5_project_BN (BatchNormal (None, 28, 28, 32)   128         block_5_project[0][0]            \n",
      "__________________________________________________________________________________________________\n",
      "block_5_add (Add)               (None, 28, 28, 32)   0           block_4_add[0][0]                \n",
      "                                                                 block_5_project_BN[0][0]         \n",
      "__________________________________________________________________________________________________\n",
      "block_6_expand (Conv2D)         (None, 28, 28, 192)  6144        block_5_add[0][0]                \n",
      "__________________________________________________________________________________________________\n",
      "block_6_expand_BN (BatchNormali (None, 28, 28, 192)  768         block_6_expand[0][0]             \n",
      "__________________________________________________________________________________________________\n",
      "block_6_expand_relu (ReLU)      (None, 28, 28, 192)  0           block_6_expand_BN[0][0]          \n",
      "__________________________________________________________________________________________________\n",
      "block_6_pad (ZeroPadding2D)     (None, 29, 29, 192)  0           block_6_expand_relu[0][0]        \n",
      "__________________________________________________________________________________________________\n",
      "block_6_depthwise (DepthwiseCon (None, 14, 14, 192)  1728        block_6_pad[0][0]                \n",
      "__________________________________________________________________________________________________\n",
      "block_6_depthwise_BN (BatchNorm (None, 14, 14, 192)  768         block_6_depthwise[0][0]          \n",
      "__________________________________________________________________________________________________\n",
      "block_6_depthwise_relu (ReLU)   (None, 14, 14, 192)  0           block_6_depthwise_BN[0][0]       \n",
      "__________________________________________________________________________________________________\n",
      "block_6_project (Conv2D)        (None, 14, 14, 64)   12288       block_6_depthwise_relu[0][0]     \n",
      "__________________________________________________________________________________________________\n",
      "block_6_project_BN (BatchNormal (None, 14, 14, 64)   256         block_6_project[0][0]            \n",
      "__________________________________________________________________________________________________\n",
      "block_7_expand (Conv2D)         (None, 14, 14, 384)  24576       block_6_project_BN[0][0]         \n",
      "__________________________________________________________________________________________________\n",
      "block_7_expand_BN (BatchNormali (None, 14, 14, 384)  1536        block_7_expand[0][0]             \n",
      "__________________________________________________________________________________________________\n",
      "block_7_expand_relu (ReLU)      (None, 14, 14, 384)  0           block_7_expand_BN[0][0]          \n",
      "__________________________________________________________________________________________________\n",
      "block_7_depthwise (DepthwiseCon (None, 14, 14, 384)  3456        block_7_expand_relu[0][0]        \n",
      "__________________________________________________________________________________________________\n",
      "block_7_depthwise_BN (BatchNorm (None, 14, 14, 384)  1536        block_7_depthwise[0][0]          \n",
      "__________________________________________________________________________________________________\n",
      "block_7_depthwise_relu (ReLU)   (None, 14, 14, 384)  0           block_7_depthwise_BN[0][0]       \n",
      "__________________________________________________________________________________________________\n",
      "block_7_project (Conv2D)        (None, 14, 14, 64)   24576       block_7_depthwise_relu[0][0]     \n",
      "__________________________________________________________________________________________________\n",
      "block_7_project_BN (BatchNormal (None, 14, 14, 64)   256         block_7_project[0][0]            \n",
      "__________________________________________________________________________________________________\n",
      "block_7_add (Add)               (None, 14, 14, 64)   0           block_6_project_BN[0][0]         \n",
      "                                                                 block_7_project_BN[0][0]         \n",
      "__________________________________________________________________________________________________\n",
      "block_8_expand (Conv2D)         (None, 14, 14, 384)  24576       block_7_add[0][0]                \n",
      "__________________________________________________________________________________________________\n",
      "block_8_expand_BN (BatchNormali (None, 14, 14, 384)  1536        block_8_expand[0][0]             \n",
      "__________________________________________________________________________________________________\n",
      "block_8_expand_relu (ReLU)      (None, 14, 14, 384)  0           block_8_expand_BN[0][0]          \n",
      "__________________________________________________________________________________________________\n",
      "block_8_depthwise (DepthwiseCon (None, 14, 14, 384)  3456        block_8_expand_relu[0][0]        \n",
      "__________________________________________________________________________________________________\n",
      "block_8_depthwise_BN (BatchNorm (None, 14, 14, 384)  1536        block_8_depthwise[0][0]          \n",
      "__________________________________________________________________________________________________\n",
      "block_8_depthwise_relu (ReLU)   (None, 14, 14, 384)  0           block_8_depthwise_BN[0][0]       \n",
      "__________________________________________________________________________________________________\n",
      "block_8_project (Conv2D)        (None, 14, 14, 64)   24576       block_8_depthwise_relu[0][0]     \n",
      "__________________________________________________________________________________________________\n",
      "block_8_project_BN (BatchNormal (None, 14, 14, 64)   256         block_8_project[0][0]            \n",
      "__________________________________________________________________________________________________\n",
      "block_8_add (Add)               (None, 14, 14, 64)   0           block_7_add[0][0]                \n",
      "                                                                 block_8_project_BN[0][0]         \n",
      "__________________________________________________________________________________________________\n",
      "block_9_expand (Conv2D)         (None, 14, 14, 384)  24576       block_8_add[0][0]                \n",
      "__________________________________________________________________________________________________\n",
      "block_9_expand_BN (BatchNormali (None, 14, 14, 384)  1536        block_9_expand[0][0]             \n",
      "__________________________________________________________________________________________________\n",
      "block_9_expand_relu (ReLU)      (None, 14, 14, 384)  0           block_9_expand_BN[0][0]          \n",
      "__________________________________________________________________________________________________\n",
      "block_9_depthwise (DepthwiseCon (None, 14, 14, 384)  3456        block_9_expand_relu[0][0]        \n",
      "__________________________________________________________________________________________________\n",
      "block_9_depthwise_BN (BatchNorm (None, 14, 14, 384)  1536        block_9_depthwise[0][0]          \n",
      "__________________________________________________________________________________________________\n",
      "block_9_depthwise_relu (ReLU)   (None, 14, 14, 384)  0           block_9_depthwise_BN[0][0]       \n",
      "__________________________________________________________________________________________________\n",
      "block_9_project (Conv2D)        (None, 14, 14, 64)   24576       block_9_depthwise_relu[0][0]     \n",
      "__________________________________________________________________________________________________\n",
      "block_9_project_BN (BatchNormal (None, 14, 14, 64)   256         block_9_project[0][0]            \n",
      "__________________________________________________________________________________________________\n",
      "block_9_add (Add)               (None, 14, 14, 64)   0           block_8_add[0][0]                \n",
      "                                                                 block_9_project_BN[0][0]         \n",
      "__________________________________________________________________________________________________\n",
      "block_10_expand (Conv2D)        (None, 14, 14, 384)  24576       block_9_add[0][0]                \n",
      "__________________________________________________________________________________________________\n",
      "block_10_expand_BN (BatchNormal (None, 14, 14, 384)  1536        block_10_expand[0][0]            \n",
      "__________________________________________________________________________________________________\n",
      "block_10_expand_relu (ReLU)     (None, 14, 14, 384)  0           block_10_expand_BN[0][0]         \n",
      "__________________________________________________________________________________________________\n",
      "block_10_depthwise (DepthwiseCo (None, 14, 14, 384)  3456        block_10_expand_relu[0][0]       \n",
      "__________________________________________________________________________________________________\n",
      "block_10_depthwise_BN (BatchNor (None, 14, 14, 384)  1536        block_10_depthwise[0][0]         \n",
      "__________________________________________________________________________________________________\n",
      "block_10_depthwise_relu (ReLU)  (None, 14, 14, 384)  0           block_10_depthwise_BN[0][0]      \n",
      "__________________________________________________________________________________________________\n",
      "block_10_project (Conv2D)       (None, 14, 14, 96)   36864       block_10_depthwise_relu[0][0]    \n",
      "__________________________________________________________________________________________________\n",
      "block_10_project_BN (BatchNorma (None, 14, 14, 96)   384         block_10_project[0][0]           \n",
      "__________________________________________________________________________________________________\n",
      "block_11_expand (Conv2D)        (None, 14, 14, 576)  55296       block_10_project_BN[0][0]        \n",
      "__________________________________________________________________________________________________\n",
      "block_11_expand_BN (BatchNormal (None, 14, 14, 576)  2304        block_11_expand[0][0]            \n",
      "__________________________________________________________________________________________________\n",
      "block_11_expand_relu (ReLU)     (None, 14, 14, 576)  0           block_11_expand_BN[0][0]         \n",
      "__________________________________________________________________________________________________\n",
      "block_11_depthwise (DepthwiseCo (None, 14, 14, 576)  5184        block_11_expand_relu[0][0]       \n",
      "__________________________________________________________________________________________________\n",
      "block_11_depthwise_BN (BatchNor (None, 14, 14, 576)  2304        block_11_depthwise[0][0]         \n",
      "__________________________________________________________________________________________________\n",
      "block_11_depthwise_relu (ReLU)  (None, 14, 14, 576)  0           block_11_depthwise_BN[0][0]      \n",
      "__________________________________________________________________________________________________\n",
      "block_11_project (Conv2D)       (None, 14, 14, 96)   55296       block_11_depthwise_relu[0][0]    \n",
      "__________________________________________________________________________________________________\n",
      "block_11_project_BN (BatchNorma (None, 14, 14, 96)   384         block_11_project[0][0]           \n",
      "__________________________________________________________________________________________________\n",
      "block_11_add (Add)              (None, 14, 14, 96)   0           block_10_project_BN[0][0]        \n",
      "                                                                 block_11_project_BN[0][0]        \n",
      "__________________________________________________________________________________________________\n",
      "block_12_expand (Conv2D)        (None, 14, 14, 576)  55296       block_11_add[0][0]               \n",
      "__________________________________________________________________________________________________\n",
      "block_12_expand_BN (BatchNormal (None, 14, 14, 576)  2304        block_12_expand[0][0]            \n",
      "__________________________________________________________________________________________________\n",
      "block_12_expand_relu (ReLU)     (None, 14, 14, 576)  0           block_12_expand_BN[0][0]         \n",
      "__________________________________________________________________________________________________\n",
      "block_12_depthwise (DepthwiseCo (None, 14, 14, 576)  5184        block_12_expand_relu[0][0]       \n",
      "__________________________________________________________________________________________________\n",
      "block_12_depthwise_BN (BatchNor (None, 14, 14, 576)  2304        block_12_depthwise[0][0]         \n",
      "__________________________________________________________________________________________________\n",
      "block_12_depthwise_relu (ReLU)  (None, 14, 14, 576)  0           block_12_depthwise_BN[0][0]      \n",
      "__________________________________________________________________________________________________\n",
      "block_12_project (Conv2D)       (None, 14, 14, 96)   55296       block_12_depthwise_relu[0][0]    \n",
      "__________________________________________________________________________________________________\n",
      "block_12_project_BN (BatchNorma (None, 14, 14, 96)   384         block_12_project[0][0]           \n",
      "__________________________________________________________________________________________________\n",
      "block_12_add (Add)              (None, 14, 14, 96)   0           block_11_add[0][0]               \n",
      "                                                                 block_12_project_BN[0][0]        \n",
      "__________________________________________________________________________________________________\n",
      "block_13_expand (Conv2D)        (None, 14, 14, 576)  55296       block_12_add[0][0]               \n",
      "__________________________________________________________________________________________________\n",
      "block_13_expand_BN (BatchNormal (None, 14, 14, 576)  2304        block_13_expand[0][0]            \n",
      "__________________________________________________________________________________________________\n",
      "block_13_expand_relu (ReLU)     (None, 14, 14, 576)  0           block_13_expand_BN[0][0]         \n",
      "__________________________________________________________________________________________________\n",
      "block_13_pad (ZeroPadding2D)    (None, 15, 15, 576)  0           block_13_expand_relu[0][0]       \n",
      "__________________________________________________________________________________________________\n",
      "block_13_depthwise (DepthwiseCo (None, 7, 7, 576)    5184        block_13_pad[0][0]               \n",
      "__________________________________________________________________________________________________\n",
      "block_13_depthwise_BN (BatchNor (None, 7, 7, 576)    2304        block_13_depthwise[0][0]         \n",
      "__________________________________________________________________________________________________\n",
      "block_13_depthwise_relu (ReLU)  (None, 7, 7, 576)    0           block_13_depthwise_BN[0][0]      \n",
      "__________________________________________________________________________________________________\n",
      "block_13_project (Conv2D)       (None, 7, 7, 160)    92160       block_13_depthwise_relu[0][0]    \n",
      "__________________________________________________________________________________________________\n",
      "block_13_project_BN (BatchNorma (None, 7, 7, 160)    640         block_13_project[0][0]           \n",
      "__________________________________________________________________________________________________\n",
      "block_14_expand (Conv2D)        (None, 7, 7, 960)    153600      block_13_project_BN[0][0]        \n",
      "__________________________________________________________________________________________________\n",
      "block_14_expand_BN (BatchNormal (None, 7, 7, 960)    3840        block_14_expand[0][0]            \n",
      "__________________________________________________________________________________________________\n",
      "block_14_expand_relu (ReLU)     (None, 7, 7, 960)    0           block_14_expand_BN[0][0]         \n",
      "__________________________________________________________________________________________________\n",
      "block_14_depthwise (DepthwiseCo (None, 7, 7, 960)    8640        block_14_expand_relu[0][0]       \n",
      "__________________________________________________________________________________________________\n",
      "block_14_depthwise_BN (BatchNor (None, 7, 7, 960)    3840        block_14_depthwise[0][0]         \n",
      "__________________________________________________________________________________________________\n",
      "block_14_depthwise_relu (ReLU)  (None, 7, 7, 960)    0           block_14_depthwise_BN[0][0]      \n",
      "__________________________________________________________________________________________________\n",
      "block_14_project (Conv2D)       (None, 7, 7, 160)    153600      block_14_depthwise_relu[0][0]    \n",
      "__________________________________________________________________________________________________\n",
      "block_14_project_BN (BatchNorma (None, 7, 7, 160)    640         block_14_project[0][0]           \n",
      "__________________________________________________________________________________________________\n",
      "block_14_add (Add)              (None, 7, 7, 160)    0           block_13_project_BN[0][0]        \n",
      "                                                                 block_14_project_BN[0][0]        \n",
      "__________________________________________________________________________________________________\n",
      "block_15_expand (Conv2D)        (None, 7, 7, 960)    153600      block_14_add[0][0]               \n",
      "__________________________________________________________________________________________________\n",
      "block_15_expand_BN (BatchNormal (None, 7, 7, 960)    3840        block_15_expand[0][0]            \n",
      "__________________________________________________________________________________________________\n",
      "block_15_expand_relu (ReLU)     (None, 7, 7, 960)    0           block_15_expand_BN[0][0]         \n",
      "__________________________________________________________________________________________________\n",
      "block_15_depthwise (DepthwiseCo (None, 7, 7, 960)    8640        block_15_expand_relu[0][0]       \n",
      "__________________________________________________________________________________________________\n",
      "block_15_depthwise_BN (BatchNor (None, 7, 7, 960)    3840        block_15_depthwise[0][0]         \n",
      "__________________________________________________________________________________________________\n",
      "block_15_depthwise_relu (ReLU)  (None, 7, 7, 960)    0           block_15_depthwise_BN[0][0]      \n",
      "__________________________________________________________________________________________________\n",
      "block_15_project (Conv2D)       (None, 7, 7, 160)    153600      block_15_depthwise_relu[0][0]    \n",
      "__________________________________________________________________________________________________\n",
      "block_15_project_BN (BatchNorma (None, 7, 7, 160)    640         block_15_project[0][0]           \n",
      "__________________________________________________________________________________________________\n",
      "block_15_add (Add)              (None, 7, 7, 160)    0           block_14_add[0][0]               \n",
      "                                                                 block_15_project_BN[0][0]        \n",
      "__________________________________________________________________________________________________\n",
      "block_16_expand (Conv2D)        (None, 7, 7, 960)    153600      block_15_add[0][0]               \n",
      "__________________________________________________________________________________________________\n",
      "block_16_expand_BN (BatchNormal (None, 7, 7, 960)    3840        block_16_expand[0][0]            \n",
      "__________________________________________________________________________________________________\n",
      "block_16_expand_relu (ReLU)     (None, 7, 7, 960)    0           block_16_expand_BN[0][0]         \n",
      "__________________________________________________________________________________________________\n",
      "block_16_depthwise (DepthwiseCo (None, 7, 7, 960)    8640        block_16_expand_relu[0][0]       \n",
      "__________________________________________________________________________________________________\n",
      "block_16_depthwise_BN (BatchNor (None, 7, 7, 960)    3840        block_16_depthwise[0][0]         \n",
      "__________________________________________________________________________________________________\n",
      "block_16_depthwise_relu (ReLU)  (None, 7, 7, 960)    0           block_16_depthwise_BN[0][0]      \n",
      "__________________________________________________________________________________________________\n",
      "block_16_project (Conv2D)       (None, 7, 7, 320)    307200      block_16_depthwise_relu[0][0]    \n",
      "__________________________________________________________________________________________________\n",
      "block_16_project_BN (BatchNorma (None, 7, 7, 320)    1280        block_16_project[0][0]           \n",
      "__________________________________________________________________________________________________\n",
      "Conv_1 (Conv2D)                 (None, 7, 7, 1280)   409600      block_16_project_BN[0][0]        \n",
      "__________________________________________________________________________________________________\n",
      "Conv_1_bn (BatchNormalization)  (None, 7, 7, 1280)   5120        Conv_1[0][0]                     \n",
      "__________________________________________________________________________________________________\n",
      "out_relu (ReLU)                 (None, 7, 7, 1280)   0           Conv_1_bn[0][0]                  \n",
      "__________________________________________________________________________________________________\n",
      "global_average_pooling2d_1 (Glo (None, 1280)         0           out_relu[0][0]                   \n",
      "__________________________________________________________________________________________________\n",
      "dense_2 (Dense)                 (None, 256)          327936      global_average_pooling2d_1[0][0] \n",
      "__________________________________________________________________________________________________\n",
      "dropout_1 (Dropout)             (None, 256)          0           dense_2[0][0]                    \n",
      "__________________________________________________________________________________________________\n",
      "dense_3 (Dense)                 (None, 3)            771         dropout_1[0][0]                  \n",
      "==================================================================================================\n",
      "Total params: 2,586,691\n",
      "Trainable params: 741,507\n",
      "Non-trainable params: 1,845,184\n",
      "__________________________________________________________________________________________________\n"
     ]
    }
   ],
   "source": [
    "model_new.summary()"
   ]
  },
  {
   "cell_type": "code",
   "execution_count": 41,
   "metadata": {},
   "outputs": [
    {
     "name": "stdout",
     "output_type": "stream",
     "text": [
      "Epoch 1/3\n",
      " 9/10 [==========================>...] - ETA: 1s - loss: 0.0864 - accuracy: 0.9779WARNING:tensorflow:Your input ran out of data; interrupting training. Make sure that your dataset or generator can generate at least `steps_per_epoch * epochs` batches (in this case, 30 batches). You may need to use the repeat() function when building your dataset.\n",
      "10/10 [==============================] - 17s 2s/step - loss: 0.0864 - accuracy: 0.9779 - val_loss: 0.0037 - val_accuracy: 1.0000\n"
     ]
    },
    {
     "data": {
      "text/plain": [
       "<tensorflow.python.keras.callbacks.History at 0x29306b035b0>"
      ]
     },
     "execution_count": 41,
     "metadata": {},
     "output_type": "execute_result"
    }
   ],
   "source": [
    "model_new.fit_generator(train_generator,steps_per_epoch=10,epochs=3,validation_data=validation_generator)"
   ]
  },
  {
   "cell_type": "code",
   "execution_count": 42,
   "metadata": {},
   "outputs": [
    {
     "name": "stdout",
     "output_type": "stream",
     "text": [
      "Found 123 images belonging to 1 classes.\n"
     ]
    }
   ],
   "source": [
    "test_datagen = image.ImageDataGenerator(rescale=1./255)\n",
    "test_generator = test_datagen.flow_from_directory(\n",
    "        'c:/Users/nishant/pokemon/Test',\n",
    "        classes=['Images'],\n",
    "         target_size=(224, 224),\n",
    "        class_mode=None,  # only data, no labels\n",
    "        shuffle=False\n",
    "        )  "
   ]
  },
  {
   "cell_type": "code",
   "execution_count": 43,
   "metadata": {},
   "outputs": [
    {
     "name": "stderr",
     "output_type": "stream",
     "text": [
      "C:\\Users\\nishant\\anaconda3\\lib\\site-packages\\tensorflow\\python\\keras\\engine\\training.py:1905: UserWarning: `Model.predict_generator` is deprecated and will be removed in a future version. Please use `Model.predict`, which supports generators.\n",
      "  warnings.warn('`Model.predict_generator` is deprecated and '\n"
     ]
    }
   ],
   "source": [
    "\n",
    "pred = model_new.predict_generator(test_generator)"
   ]
  },
  {
   "cell_type": "code",
   "execution_count": 46,
   "metadata": {},
   "outputs": [],
   "source": [
    "pred = pred.argmax(axis=1)"
   ]
  },
  {
   "cell_type": "code",
   "execution_count": 47,
   "metadata": {},
   "outputs": [],
   "source": [
    "y_test_name = test_generator.filenames "
   ]
  },
  {
   "cell_type": "code",
   "execution_count": 49,
   "metadata": {},
   "outputs": [],
   "source": [
    "filenames_to_cls = dict(zip(test_generator.filenames, pred))"
   ]
  },
  {
   "cell_type": "code",
   "execution_count": 50,
   "metadata": {},
   "outputs": [],
   "source": [
    "df_test = pd.read_csv('c:/Users/nishant/pokemon/Test/test.csv')"
   ]
  },
  {
   "cell_type": "code",
   "execution_count": 53,
   "metadata": {},
   "outputs": [],
   "source": [
    "df_test['NameOfPokemon'] = df_test['ImageId'].apply(lambda x : filenames_to_cls['Images\\\\'+x])"
   ]
  },
  {
   "cell_type": "code",
   "execution_count": 55,
   "metadata": {},
   "outputs": [],
   "source": [
    "dict_to_change = {0:'Bulbasaur', 1:'Charmander', 2:'Pikachu'}"
   ]
  },
  {
   "cell_type": "code",
   "execution_count": 56,
   "metadata": {},
   "outputs": [],
   "source": [
    "df_test['NameOfPokemon'] = df_test['NameOfPokemon'].apply(lambda x : dict_to_change[x])"
   ]
  },
  {
   "cell_type": "code",
   "execution_count": 58,
   "metadata": {},
   "outputs": [],
   "source": [
    "df_test.to_csv('submission.csv',index=False)"
   ]
  },
  {
   "cell_type": "code",
   "execution_count": null,
   "metadata": {},
   "outputs": [],
   "source": []
  },
  {
   "cell_type": "code",
   "execution_count": null,
   "metadata": {},
   "outputs": [],
   "source": []
  },
  {
   "cell_type": "code",
   "execution_count": null,
   "metadata": {},
   "outputs": [],
   "source": []
  },
  {
   "cell_type": "code",
   "execution_count": null,
   "metadata": {},
   "outputs": [],
   "source": []
  },
  {
   "cell_type": "code",
   "execution_count": null,
   "metadata": {},
   "outputs": [],
   "source": []
  }
 ],
 "metadata": {
  "kernelspec": {
   "display_name": "Python 3",
   "language": "python",
   "name": "python3"
  },
  "language_info": {
   "codemirror_mode": {
    "name": "ipython",
    "version": 3
   },
   "file_extension": ".py",
   "mimetype": "text/x-python",
   "name": "python",
   "nbconvert_exporter": "python",
   "pygments_lexer": "ipython3",
   "version": "3.8.5"
  }
 },
 "nbformat": 4,
 "nbformat_minor": 4
}
