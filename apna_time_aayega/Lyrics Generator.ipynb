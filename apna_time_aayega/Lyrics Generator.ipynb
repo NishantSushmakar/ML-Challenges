{
 "cells": [
  {
   "cell_type": "code",
   "execution_count": 1,
   "id": "tribal-wrestling",
   "metadata": {},
   "outputs": [],
   "source": [
    "import numpy as np"
   ]
  },
  {
   "cell_type": "code",
   "execution_count": 2,
   "id": "individual-australian",
   "metadata": {},
   "outputs": [],
   "source": [
    "file = open('c:/Users/nishant/apna_time_aayega/Apna Time Aayega.txt','r')"
   ]
  },
  {
   "cell_type": "code",
   "execution_count": 3,
   "id": "smaller-soviet",
   "metadata": {},
   "outputs": [],
   "source": [
    "text = file.read()\n",
    "file.close()"
   ]
  },
  {
   "cell_type": "code",
   "execution_count": 4,
   "id": "grave-evidence",
   "metadata": {},
   "outputs": [
    {
     "name": "stdout",
     "output_type": "stream",
     "text": [
      "Apna Time Aayega\n",
      "Uth ja apni raakh se\n",
      "Tu udd ja ab talaash mein\n",
      "Parwaaz dekh parwane ki\n",
      "Aasman bhi sar uthayega\n",
      "Aayega apna time aayega\n",
      "Mere jaisa shaana lala\n",
      "Tujhe na mil payega\n",
      " \n",
      "Yeh shabdon ka jwala\n",
      "Meri bediyan pighlayega\n",
      "Jitna toone boya hai tu\n",
      "Utna hi to khaayega\n",
      "Aisa mera khwaab hai\n",
      "Jo darr ko bhi satayega\n",
      "Zinda mera khwaab\n",
      "Ab kaise tu dafnayega\n",
      " \n",
      "Ab hausle se jeene de\n",
      "Ab khauf nahi hai seene mein\n",
      "Har raaste ko cheerenge\n",
      "Hum kaamyabi chheenenge\n",
      "Sab kuchh mila paseene se\n",
      "Matlab bana ab jeene mein\n",
      " \n",
      "Kyon\n",
      "Kyon ki apna time aayega\n",
      " \n",
      "Tu nanga hi to aaya hai\n",
      "Kya ghanta lekar jaayega\n",
      "Apna time aayega\n",
      "Apna time aayega\n",
      "Apna time aayega x (2)\n",
      " \n",
      "Tu nanga hi to aaya hai\n",
      "Kya ghanta lekar..\n",
      " \n",
      "Kissi ka hath nahi tha sar par\n",
      "Yahaan par aaya khud ki mehnat se main\n",
      "Jitni taakat kismat mein nahi\n",
      "Utni rehmat mein hai\n",
      "Phir bhi ladka sehmat nahin hai\n",
      "Kyon ki hairat nahi hai\n",
      "Zaroorat yahaan marzi ki\n",
      "Aur jurrat ki hai\n",
      " \n",
      "Taakat ki hai, aafat ki\n",
      "Himaakat ki, ibaadat ki\n",
      "Adalat yeh hai chahat ki\n",
      "Mohobbat ki, amaanat ki\n",
      "Jeetne ki ab aadat ki hai\n",
      "Shohrat ki ab laalach nai hai\n",
      "Tere bhai jaisa koyi hardâ€™ch nai hai\n",
      " \n",
      "Iss harkat ne hi barkat di hai\n",
      "Kyon?\n",
      " \n",
      "Tu nanga hi to aaya hai\n",
      "Kya ghanta lekar jaayega\n",
      "Apna time aayega\n",
      "Apna time aayega\n",
      "Apna time aayega\n",
      " \n",
      "Tu nanga hi to aaya hai\n",
      "Kya ghanta lekar jaayega\n",
      "Kya tu ghanta lekar jaayega\n",
      "Apna time aayega\n",
      "Apna time aayega\n"
     ]
    }
   ],
   "source": [
    "print(text)"
   ]
  },
  {
   "cell_type": "code",
   "execution_count": 5,
   "id": "special-plumbing",
   "metadata": {},
   "outputs": [
    {
     "data": {
      "text/plain": [
       "1362"
      ]
     },
     "execution_count": 5,
     "metadata": {},
     "output_type": "execute_result"
    }
   ],
   "source": [
    "len(text)"
   ]
  },
  {
   "cell_type": "code",
   "execution_count": 7,
   "id": "coated-fellow",
   "metadata": {},
   "outputs": [],
   "source": [
    "def generatetable(data,k=4):\n",
    "    \n",
    "    tab = {}\n",
    "    for i in range(len(data)-k):\n",
    "        X = data[i:i+k]\n",
    "        Y = data[i+k]\n",
    "        \n",
    "        if tab.get(X) is None:\n",
    "            tab[X] = {}\n",
    "            tab[X][Y] = 1\n",
    "               \n",
    "        else :\n",
    "            if tab.get(X).get(Y) is None:\n",
    "                tab[X][Y] = 1\n",
    "            else :\n",
    "                tab[X][Y]  += 1\n",
    "         \n",
    "    \n",
    "        \n",
    "        \n",
    "    return tab"
   ]
  },
  {
   "cell_type": "code",
   "execution_count": 8,
   "id": "removed-analyst",
   "metadata": {},
   "outputs": [],
   "source": [
    "sample_text = 'hello helli hella'"
   ]
  },
  {
   "cell_type": "code",
   "execution_count": 9,
   "id": "severe-customer",
   "metadata": {},
   "outputs": [],
   "source": [
    "d = generatetable(sample_text)"
   ]
  },
  {
   "cell_type": "code",
   "execution_count": 10,
   "id": "impressed-drama",
   "metadata": {},
   "outputs": [
    {
     "data": {
      "text/plain": [
       "{'hell': {'o': 1, 'i': 1, 'a': 1},\n",
       " 'ello': {' ': 1},\n",
       " 'llo ': {'h': 1},\n",
       " 'lo h': {'e': 1},\n",
       " 'o he': {'l': 1},\n",
       " ' hel': {'l': 2},\n",
       " 'elli': {' ': 1},\n",
       " 'lli ': {'h': 1},\n",
       " 'li h': {'e': 1},\n",
       " 'i he': {'l': 1}}"
      ]
     },
     "execution_count": 10,
     "metadata": {},
     "output_type": "execute_result"
    }
   ],
   "source": [
    "d"
   ]
  },
  {
   "cell_type": "code",
   "execution_count": 11,
   "id": "imported-soviet",
   "metadata": {},
   "outputs": [],
   "source": [
    "def convtfreqintoprob(T):\n",
    "    for kx in T.keys():\n",
    "        s = float(sum(T[kx].values()))\n",
    "        for k in T[kx].keys():\n",
    "            T[kx][k] = T[kx][k]/s\n",
    "            \n",
    "    return T"
   ]
  },
  {
   "cell_type": "code",
   "execution_count": 12,
   "id": "rolled-ground",
   "metadata": {},
   "outputs": [],
   "source": [
    "d=convtfreqintoprob(d)"
   ]
  },
  {
   "cell_type": "code",
   "execution_count": 13,
   "id": "little-durham",
   "metadata": {},
   "outputs": [
    {
     "name": "stdout",
     "output_type": "stream",
     "text": [
      "{'hell': {'o': 0.3333333333333333, 'i': 0.3333333333333333, 'a': 0.3333333333333333}, 'ello': {' ': 1.0}, 'llo ': {'h': 1.0}, 'lo h': {'e': 1.0}, 'o he': {'l': 1.0}, ' hel': {'l': 1.0}, 'elli': {' ': 1.0}, 'lli ': {'h': 1.0}, 'li h': {'e': 1.0}, 'i he': {'l': 1.0}}\n"
     ]
    }
   ],
   "source": [
    "print(d)"
   ]
  },
  {
   "cell_type": "code",
   "execution_count": 14,
   "id": "suited-professor",
   "metadata": {},
   "outputs": [],
   "source": [
    "def train(text,k=4):\n",
    "    \n",
    "    T=generatetable(text,k)\n",
    "    T=convtfreqintoprob(T)\n",
    "    \n",
    "    return T"
   ]
  },
  {
   "cell_type": "code",
   "execution_count": 15,
   "id": "conservative-ocean",
   "metadata": {},
   "outputs": [],
   "source": [
    "text = text.lower()\n",
    "model = train(text)"
   ]
  },
  {
   "cell_type": "code",
   "execution_count": 16,
   "id": "valid-adaptation",
   "metadata": {},
   "outputs": [],
   "source": [
    "np.random.seed(11)\n",
    "def sample_text(ctx,T,k):\n",
    "    ctx = ctx[-k:]\n",
    "    if T.get(ctx) is None:\n",
    "        return \" \"\n",
    "    possible_chars = list(T[ctx].keys())\n",
    "    possible_values = list(T[ctx].values())\n",
    "    \n",
    "    return np.random.choice(possible_chars,p=possible_values)"
   ]
  },
  {
   "cell_type": "code",
   "execution_count": 17,
   "id": "antique-system",
   "metadata": {},
   "outputs": [],
   "source": [
    "def generateText(starting_sent,k=4,maxLen = 1000):\n",
    "    \n",
    "    sentence = starting_sent\n",
    "    ctx = starting_sent[-k:]\n",
    "    for ix in range(maxLen):\n",
    "        next_prediction = sample_text(ctx,model,k)\n",
    "        sentence += next_prediction\n",
    "        ctx = sentence[-k:]\n",
    "        \n",
    "    return sentence"
   ]
  },
  {
   "cell_type": "code",
   "execution_count": 23,
   "id": "passing-freeze",
   "metadata": {},
   "outputs": [],
   "source": [
    "answer = generateText('apna ',maxLen=1996)"
   ]
  },
  {
   "cell_type": "code",
   "execution_count": 24,
   "id": "removable-sperm",
   "metadata": {},
   "outputs": [
    {
     "name": "stdout",
     "output_type": "stream",
     "text": [
      "apna time aayega\n",
      "jitni taakat ne hi to aayega x (2)\n",
      " \n",
      "tu nanga hi barkat ki\n",
      "himaakat kismat nahi hai\n",
      "shohrat ki hai\n",
      "tere jaisa koyi hai\n",
      "kyon ka jwala\n",
      "mere bhai tu\n",
      "utni taakat ki\n",
      "himaakat ki hardâ€™ch nai hai\n",
      "kya ghanta lekar jaayega\n",
      " \n",
      "yeh hai\n",
      "kya ghanta lekar..\n",
      " \n",
      "kissi ka jwala\n",
      "tujhe na mil payega\n",
      "apna time aayega\n",
      "zinda mera khwaab\n",
      "ab hausle se main\n",
      "jitna hi barkat ki\n",
      "aur jurrat ki hai\n",
      "kya tu ghanta lekar jaayega\n",
      " \n",
      "yeh shabdon ki ab jeene mein\n",
      "parwane ki hardâ€™ch nai hai\n",
      "kya ghanta lekar jaayega\n",
      "apna time aaya hai\n",
      "kya ghanta lekar..\n",
      " \n",
      "kissi ka jwala\n",
      "mere jaisa shabdon ka hai\n",
      " \n",
      "iss harkat nahin hai\n",
      "kya ghanta lekar jaayega\n",
      "apna time aaya hai\n",
      "kya ghanta lekar jaayega x (2)\n",
      " \n",
      "tu nanga hi to aayega\n",
      "mere bhai chahat ki, aafat ki\n",
      "mohobbat ki\n",
      "mohobbat ki, amaanat ki\n",
      "himaakat ki\n",
      "adalat yeh hai jaisa mera khwaab\n",
      "ab khaayega\n",
      "apna time aayega\n",
      "zinda mera khwaab\n",
      "ab kuchh mila paseenenge\n",
      "sab kaise tu ghanta lekar jaayega\n",
      "apna time aaya khwaab\n",
      "ab kaise tu dafnayega\n",
      "uth ja apna time aayega\n",
      " \n",
      "ab kaise tu ghanta lekar jaayega\n",
      " \n",
      "ab khaayega\n",
      "apna time aayega\n",
      "apna time aaya khud ki apna time aaya hai\n",
      " \n",
      "iss harkat ki\n",
      "adalat yeh hai\n",
      "kya tu dafnayega x (2)\n",
      " \n",
      "tu nanga hi to aayega\n",
      "aayega\n",
      "jitna time aayega\n",
      "jitni taakat ki\n",
      "jeetne ki ab aadat ki, ibaadat ki, ibaadat ki mehnat se jeene se jeenenge\n",
      "sab khauf nahi to aaya hai\n",
      " \n",
      "iss hardâ€™ch nahi hai seenenge\n",
      "sab khaayega\n",
      "apna time aaya hai\n",
      " \n",
      "iss hardâ€™ch nai hai jaisa mera khwaab\n",
      "ab hausle se main\n",
      "jitna hi tha sar par aaya hai chahat kismat ne hi barkat kismat mein nahi hai\n",
      "phir bhi satayega\n",
      "aisa shabdon ki ab talaash mein nahin hai tu\n",
      "utni raaste ko bhi satayega apna time aayega\n",
      "aisa koyi hardâ€™ch nai hai jaisa mera khwaab hai\n",
      "phir bhi sar uthayega x (2)\n",
      " \n",
      "tu udd ja apna time aaya hath nai hai, amaana lala\n",
      "meri bediyan par aayega\n",
      "zinda mera khud ki hai\n",
      " \n",
      "tu nanga hi barkat di hai, aafat ki\n",
      "aasman bhi ladka sehmat mein\n",
      " \n",
      "kyon?\n",
      " \n",
      "tu nanga hi barkat ki, aafat ki hai\n",
      "kya tu dafnayega\n",
      "aayega\n",
      "zinda mera khud ki hai\n",
      "kyon\n",
      "kyon ka jwala\n",
      "mere bhai chhe\n"
     ]
    }
   ],
   "source": [
    "print(answer)"
   ]
  },
  {
   "cell_type": "code",
   "execution_count": 25,
   "id": "norwegian-german",
   "metadata": {},
   "outputs": [
    {
     "data": {
      "text/plain": [
       "2001"
      ]
     },
     "execution_count": 25,
     "metadata": {},
     "output_type": "execute_result"
    }
   ],
   "source": [
    "len(answer)"
   ]
  },
  {
   "cell_type": "code",
   "execution_count": 26,
   "id": "buried-reputation",
   "metadata": {},
   "outputs": [],
   "source": [
    "f = open('submission.txt','w')\n",
    "f.write(answer)\n",
    "f.close()"
   ]
  },
  {
   "cell_type": "code",
   "execution_count": null,
   "id": "furnished-gauge",
   "metadata": {},
   "outputs": [],
   "source": []
  },
  {
   "cell_type": "code",
   "execution_count": null,
   "id": "polished-robin",
   "metadata": {},
   "outputs": [],
   "source": []
  },
  {
   "cell_type": "code",
   "execution_count": null,
   "id": "fleet-harrison",
   "metadata": {},
   "outputs": [],
   "source": []
  },
  {
   "cell_type": "code",
   "execution_count": null,
   "id": "gorgeous-steel",
   "metadata": {},
   "outputs": [],
   "source": []
  },
  {
   "cell_type": "code",
   "execution_count": null,
   "id": "raised-mexican",
   "metadata": {},
   "outputs": [],
   "source": []
  },
  {
   "cell_type": "code",
   "execution_count": null,
   "id": "enclosed-appraisal",
   "metadata": {},
   "outputs": [],
   "source": []
  },
  {
   "cell_type": "code",
   "execution_count": null,
   "id": "differential-corner",
   "metadata": {},
   "outputs": [],
   "source": []
  }
 ],
 "metadata": {
  "kernelspec": {
   "display_name": "Python 3",
   "language": "python",
   "name": "python3"
  },
  "language_info": {
   "codemirror_mode": {
    "name": "ipython",
    "version": 3
   },
   "file_extension": ".py",
   "mimetype": "text/x-python",
   "name": "python",
   "nbconvert_exporter": "python",
   "pygments_lexer": "ipython3",
   "version": "3.8.5"
  }
 },
 "nbformat": 4,
 "nbformat_minor": 5
}
